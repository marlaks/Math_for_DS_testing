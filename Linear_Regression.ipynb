{
 "cells": [
  {
   "cell_type": "code",
   "execution_count": 1,
   "id": "2f938262-3f91-4fbb-8321-4a413e1128b3",
   "metadata": {},
   "outputs": [],
   "source": [
    "import numpy as np\n",
    "import pandas as pd\n",
    "import matplotlib.pyplot as plt\n",
    "from mpl_toolkits import mplot3d\n",
    "from sklearn.linear_model import LinearRegression\n",
    "import random"
   ]
  },
  {
   "cell_type": "markdown",
   "id": "bf4e3650-24f6-438b-9c27-2e31c423b396",
   "metadata": {},
   "source": [
    "## Linear Regression"
   ]
  },
  {
   "cell_type": "markdown",
   "id": "1e102e72-9bf1-4335-99af-bee40337bde4",
   "metadata": {},
   "source": [
    "- linear regression fits a straight line through observed data, showing it is linear, and predicting values for new and unobserved data\n",
    "- machine learning practicioners often use train-test-splits to validate data\n",
    "- statisticians like to use prediction intervals and correlations\n",
    "- linear regression should not be used to make predictions outside the range of the observed data"
   ]
  },
  {
   "cell_type": "code",
   "execution_count": 21,
   "id": "2985259c-6136-4512-8d60-103d90dc77b0",
   "metadata": {},
   "outputs": [
    {
     "name": "stdout",
     "output_type": "stream",
     "text": [
      "[1.93939394]\n",
      "4.73333333333334\n"
     ]
    },
    {
     "data": {
      "image/png": "[encoded data removed]",
      "text/plain": [
       "<Figure size 640x480 with 1 Axes>"
      ]
     },
     "metadata": {},
     "output_type": "display_data"
    }
   ],
   "source": [
    "# create dataset of 10 dogs and n pet visits\n",
    "X = np.array([1,2,3,4,5,6,7,8,9,10]).reshape(-1, 1)\n",
    "Y = np.array([5,10,10,15,14,15,19,18,25,23])\n",
    "\n",
    "fit = LinearRegression().fit(X,Y)\n",
    "\n",
    "m = fit.coef_\n",
    "b = fit.intercept_\n",
    "print(m)\n",
    "print(b)\n",
    "\n",
    "plt.plot(X,Y,\"o\")\n",
    "plt.plot(X, m*X + b)\n",
    "plt.show()"
   ]
  },
  {
   "cell_type": "markdown",
   "id": "8ddb822f-67e2-4390-bbb6-7fee1e7978aa",
   "metadata": {},
   "source": [
    "**Residuals and Squared Errors**\n",
    "- 2 questions that are fundamental to model training:\n",
    "- what defines the \"best fit\"?\n",
    "- > minimize sum of squared residuals (or errors)\n",
    "  > residual: difference between predicted y value and actual y value\n",
    "- what gets the \"best fit\"?\n",
    "- > how do we find the best m and b value that create the line with the least sum of squares?"
   ]
  },
  {
   "cell_type": "markdown",
   "id": "8b5f73dc-12b3-446a-84fe-05c5095e2ff7",
   "metadata": {},
   "source": [
    "**Machine Learning Training basic concept**\n",
    "- we provide data and a loss function (or objective function)\n",
    "- having a loss function that calculates the error of a model\n",
    "- finding the parameters of the loss function that gives the lowest loss"
   ]
  },
  {
   "cell_type": "markdown",
   "id": "e7494548-8f75-49e1-8bd4-751f71ca585a",
   "metadata": {},
   "source": [
    "**Finding the best fit line**\n",
    "- algorithms: closed form, matrix inversion, matrix decomposition, gradient descent, stochastic gradient descent "
   ]
  },
  {
   "cell_type": "markdown",
   "id": "b70098eb-584f-4493-a331-5beb4e9557da",
   "metadata": {},
   "source": [
    "**Closed Form Equation**\n",
    "- if there is only 1 input variable and few datapoints, we can use closed form equation\n",
    "- this fits a linear regression by exact calculation\n",
    "- m = (n*sum(xy) - sum(x) * sum(y)) / (n*sum(x**2) - sum(x)**2)\n",
    "- b = sum(y)/n - m * sum(x)/n"
   ]
  },
  {
   "cell_type": "code",
   "execution_count": 13,
   "id": "971467ed-8d7d-40bc-b055-755f5bdf29eb",
   "metadata": {},
   "outputs": [
    {
     "name": "stdout",
     "output_type": "stream",
     "text": [
      "1.9393939393939394 4.7333333333333325\n"
     ]
    }
   ],
   "source": [
    "x = [1,2,3,4,5,6,7,8,9,10]\n",
    "y = [5,10,10,15,14,15,19,18,25,23]\n",
    "n = len(x)\n",
    "\n",
    "m = (n*sum(x[p-1]*y[p-1] for p in x) - sum(x[p-1] for p in x) *\n",
    "    sum(y[p-1] for p in x)) / (n*sum(x[p-1]**2 for p in x) -\n",
    "    sum(x[p-1] for p in x)**2)\n",
    "\n",
    "b = (sum(y[p-1] for p in x) / n) - m * sum(x[p-1] for p in x) / n\n",
    "\n",
    "print(m, b)"
   ]
  },
  {
   "cell_type": "markdown",
   "id": "a01d84a3-007e-4431-979c-b91d0ace9fc7",
   "metadata": {},
   "source": [
    "**Inverse Matrix Techniques**\n",
    "- b = (Xt * X)**(-1) * (Xt * y)\n",
    "- b = vector of coefficients\n",
    "- X = matrix of input variable values\n",
    "- y = vector of output variable values\n",
    "- finds vector of coefficients given matrix of input variables and vector of output variables\n",
    "- not so good when amount of data and dimensions are high"
   ]
  },
  {
   "cell_type": "code",
   "execution_count": 15,
   "id": "5a032cfd-62a9-416d-92df-db33f559be2e",
   "metadata": {},
   "outputs": [
    {
     "name": "stdout",
     "output_type": "stream",
     "text": [
      "[1.93939394 4.73333333]\n",
      "[ 6.67272727  8.61212121 10.55151515 12.49090909 14.43030303 16.36969697\n",
      " 18.30909091 20.24848485 22.18787879 24.12727273]\n"
     ]
    }
   ],
   "source": [
    "# input and output data\n",
    "# X: have to add column of ones so get the coefficient for the intercept\n",
    "X = np.array([[1,2,3,4,5,6,7,8,9,10], [1,1,1,1,1,1,1,1,1,1]]).T\n",
    "Y = np.array([5,10,10,15,14,15,19,18,25,23])\n",
    "\n",
    "# inverse matrix technique\n",
    "b = np.linalg.inv((X.T @ X)) @ (X.T @ Y)\n",
    "print(b)\n",
    "\n",
    "# use coefficients to predict outcomes based on input data\n",
    "y_pred = X @ b\n",
    "print(y_pred)"
   ]
  },
  {
   "cell_type": "markdown",
   "id": "0905c828-0f57-4355-b7bb-2899b33070ed",
   "metadata": {},
   "source": [
    "**Matrix Decomposition (QR decomposition)**\n",
    "- better than inverse matrix if alot of data\n",
    "- first decompose matrix: X = Q * R\n",
    "- then calculate coefficients: b = R**(-1) * Qt * y\n",
    "- QR decomposition is used for linear regression in many scientific libraries, because it scales well"
   ]
  },
  {
   "cell_type": "code",
   "execution_count": 19,
   "id": "0f45250f-f3ec-4010-8ed2-40f042f9fbbe",
   "metadata": {},
   "outputs": [
    {
     "name": "stdout",
     "output_type": "stream",
     "text": [
      "[[-5.09647191e-02 -5.85540044e-01]\n",
      " [-1.01929438e-01 -4.87950036e-01]\n",
      " [-1.52894157e-01 -3.90360029e-01]\n",
      " [-2.03858877e-01 -2.92770022e-01]\n",
      " [-2.54823596e-01 -1.95180015e-01]\n",
      " [-3.05788315e-01 -9.75900073e-02]\n",
      " [-3.56753034e-01 -1.18221328e-17]\n",
      " [-4.07717753e-01  9.75900073e-02]\n",
      " [-4.58682472e-01  1.95180015e-01]\n",
      " [-5.09647191e-01  2.92770022e-01]]\n",
      "[[-19.62141687  -2.80305955]\n",
      " [  0.          -1.46385011]]\n",
      "[1.93939394 4.73333333]\n",
      "[ 6.67272727  8.61212121 10.55151515 12.49090909 14.43030303 16.36969697\n",
      " 18.30909091 20.24848485 22.18787879 24.12727273]\n"
     ]
    }
   ],
   "source": [
    "# input and output data\n",
    "# X: have to add column of ones so get the coefficient for the intercept\n",
    "X = np.array([[1,2,3,4,5,6,7,8,9,10], [1,1,1,1,1,1,1,1,1,1]]).T\n",
    "Y = np.array([5,10,10,15,14,15,19,18,25,23])\n",
    "\n",
    "# decompose using QR decomposition\n",
    "Q, R = np.linalg.qr(X)\n",
    "print(Q)\n",
    "print(R)\n",
    "\n",
    "# calculate coefficients\n",
    "b = np.linalg.inv(R) @ (Q.T @ Y)\n",
    "print(b)\n",
    "\n",
    "# predict new y based on X input values and b coefficients\n",
    "print(X @ b)"
   ]
  },
  {
   "cell_type": "markdown",
   "id": "5b090f6b-2e08-4dae-ae23-4ba9f1ca2143",
   "metadata": {},
   "source": [
    "**Gradient Descent**\n",
    "- imagine your on a mountain landscape\n",
    "- the landscape are all possible sum of square losses\n",
    "- we cannot see the entire landscape, only whats right around us\n",
    "- and we want to get to the lowest point, where the sum of square loss is the lowest\n",
    "- so we iteratively take steps into the direction where the downward slope is big, hoping to find the lowest point\n",
    "- partial derivative lets us see the slope for every parameter (ie m and b)\n",
    "- we step in directions for m and b where the slope goes downward\n",
    "- as a step size we take a fraction of the slope\n",
    "- this fraction is the learning rate\n",
    "- low learning rate: algorithms takes long time but is more precise\n",
    "- high learning rate: algorithm is faster but is less precise"
   ]
  },
  {
   "cell_type": "markdown",
   "id": "d65e0069-fccc-4dbf-9c50-6022c980b1d5",
   "metadata": {},
   "source": [
    "**Gradient Descent example**\n",
    "- using gradient descent to find minimum of parabola\n",
    "- start with a random x value\n",
    "- get the slope at x using derivative\n",
    "- substract a fraction of the slope from x\n",
    "- x will keep decreasing to the bottom of the curve\n",
    "- if it passes the zero point, x will rise again, but so will slope that is the substracted again\n",
    "- hypothetically, if x arrives exactly at zero point, slope is zero so nothing is substracted from x. x stays the same for remaining iterations\n",
    "- also, when x gets closer to zero, the slope gets smaller, so the substracted learning rate is smaller, making x reduce slower"
   ]
  },
  {
   "cell_type": "code",
   "execution_count": 26,
   "id": "5e0e55bb-deb5-45f9-9966-95b8ee169a93",
   "metadata": {},
   "outputs": [
    {
     "name": "stdout",
     "output_type": "stream",
     "text": [
      "2.2  -  4.64\n",
      "2.3600000000000003  -  4.409599999999999\n",
      "2.4880000000000004  -  4.262143999999999\n",
      "2.5904000000000003  -  4.16777216\n",
      "2.67232  -  4.1073741824\n",
      "2.737856  -  4.068719476736\n",
      "2.7902848  -  4.04398046511104\n",
      "2.83222784  -  4.028147497671066\n",
      "2.8657822719999997  -  4.018014398509482\n",
      "2.8926258176  -  4.011529215046068\n",
      "2.91410065408  -  4.007378697629484\n",
      "2.931280523264  -  4.00472236648287\n",
      "2.9450244186112  -  4.003022314549036\n",
      "2.95601953488896  -  4.001934281311383\n",
      "2.964815627911168  -  4.001237940039285\n",
      "2.9718525023289346  -  4.000792281625142\n",
      "2.9774820018631476  -  4.000507060240091\n",
      "2.981985601490518  -  4.000324518553659\n",
      "2.9855884811924147  -  4.000207691874341\n",
      "2.9884707849539316  -  4.000132922799579\n"
     ]
    }
   ],
   "source": [
    "# function for which we find x value that produces the lowest point using gradient descent\n",
    "def f(x):\n",
    "    return (x-3)**2 + 4\n",
    "\n",
    "# partial derivative for x\n",
    "def dx_f(x):\n",
    "    return 2*(x-3)\n",
    "\n",
    "# learning rate\n",
    "L = 0.1\n",
    "\n",
    "# number of iterations\n",
    "n = 20\n",
    "\n",
    "# start at a random x value\n",
    "x = random.randint(-15,15)\n",
    "\n",
    "# gradient descent\n",
    "for i in range(n):\n",
    "\n",
    "    # calculate derivative value at x (slope)\n",
    "    dx = dx_f(x)\n",
    "\n",
    "    # update x by substracting the learning rate * slope\n",
    "    x -= L * dx\n",
    "    print(x, \" - \", f(x))"
   ]
  },
  {
   "cell_type": "markdown",
   "id": "4eb71a75-db15-4a8b-b788-d46d95ea7b9c",
   "metadata": {},
   "source": [
    "**Gradient Descent and Linear Regression**\n",
    "- in linear regression we already know the x and y values, because they are provided as training data\n",
    "- we need to find m and b to get the best fit line through the x and y values\n",
    "- slopes for m and b: Partial derivatives for each of these\n",
    "- we are minimizing the sum of squares\n",
    "- so we need to take the derivatives of sum of square with respect to m and b\n",
    "- sum of square: sum(((mx + b) - y)**2)\n",
    "- dm = sum(2x * ((mx + b) - y))\n",
    "- db = sum(2 * ((mx + b) - y))"
   ]
  },
  {
   "cell_type": "code",
   "execution_count": 11,
   "id": "06ef2081-158d-4366-866b-217845d46d41",
   "metadata": {},
   "outputs": [
    {
     "name": "stdout",
     "output_type": "stream",
     "text": [
      "m =  1.9393939393939548  & b =  4.733333333333227\n"
     ]
    }
   ],
   "source": [
    "x = [1,2,3,4,5,6,7,8,9,10]\n",
    "y = [5,10,10,15,14,15,19,18,25,23]\n",
    "\n",
    "# set initial values for m and b\n",
    "m = 0.0\n",
    "b = 0.0\n",
    "\n",
    "# Learning rate\n",
    "L = 0.001\n",
    "\n",
    "# number of iterations\n",
    "n = 100000\n",
    "\n",
    "# prepare lists for 3dplot\n",
    "m_list = []\n",
    "b_list = []\n",
    "e_list = [] # errors\n",
    "\n",
    "# Perform gradient descent\n",
    "for i in range(n):\n",
    "\n",
    "    # calc squared error for plotting\n",
    "    e = sum((((m * x[p-1] + b) - y[p-1])**2 for p in x))\n",
    "    \n",
    "    # slope with respect to m\n",
    "    D_m = sum(2 * x[p-1] * ((m * x[p-1] + b) - y[p-1]) for p in x)\n",
    "\n",
    "    # slope with respect to b\n",
    "    D_b = sum(2 * ((m * x[p-1] + b) - y[p-1]) for p in x)\n",
    "\n",
    "    # update m and b\n",
    "    m -= L * D_m\n",
    "    b -= L * D_b\n",
    "\n",
    "    # add data to lists for plotting\n",
    "    m_list.append(m)\n",
    "    b_list.append(b)\n",
    "    e_list.append(e)\n",
    "\n",
    "print(\"m = \", m, \" & b = \", b)"
   ]
  },
  {
   "cell_type": "markdown",
   "id": "71d69106-743e-49e3-bbee-c84c60a75568",
   "metadata": {},
   "source": [
    "**Overfitting and Variance**\n",
    "- if we fit the model too well to the training data, it will be less good at predicting for new data (overfitting)\n",
    "- overfit model will have high variance in predicting for new data\n",
    "- thats why we use bias in a model: prioritizing a method (keeping a straight line) over fitting exactly to the training data\n",
    "- adding bias to a model counteracts overfitting with underfitting\n",
    "- Ridge Regression: Adds further bias to regression through adding a penalty\n",
    "- Lasso regression removes noisy variables"
   ]
  },
  {
   "cell_type": "markdown",
   "id": "24b05f10-6d5d-4cdc-b86d-eb026b7f6c10",
   "metadata": {},
   "source": [
    "**Stochastic gradient descent**\n",
    "- it is unlikely that one would do regular gradient descent (batch gradient descent) where one trains on all available data\n",
    "- better: stochastic gradient descent (mini batch gradient descent) where in each iteration you only train on a sample of the data\n",
    "- makes computation more efficient, as each iteration on ly trains non a sample of the data\n",
    "- reduces overfitting: Each iteration there will be a different loss landscape (based on the sample the iteration trains on) which means the algorithm will not settle in the global minimum"
   ]
  },
  {
   "cell_type": "code",
   "execution_count": 14,
   "id": "55eb5a4c-be8f-432a-97a5-b81eae89cf35",
   "metadata": {},
   "outputs": [
    {
     "name": "stdout",
     "output_type": "stream",
     "text": [
      "0 0.0285 0.004\n",
      "10000 2.3535760103759302 1.875233542862461\n",
      "20000 2.2064820626847936 2.8490987360865336\n",
      "30000 2.1187637896104516 3.492794671003066\n",
      "40000 2.0575517119959623 3.913604893634368\n",
      "50000 2.0131102495570685 4.196016370047888\n",
      "60000 1.9738021046896421 4.3834487393903965\n",
      "70000 1.9671248460073738 4.4997500720209285\n",
      "80000 1.9335007811216114 4.58632752429507\n",
      "90000 1.9627904251022696 4.65312862635246\n",
      "y = 1.9285259824870946x + 4.6858119643902025\n"
     ]
    }
   ],
   "source": [
    "# creating dataset\n",
    "data = {\"x\":[1,2,3,4,5,6,7,8,9,10],\n",
    "        \"y\":[5,10,10,15,14,15,19,18,25,23]}\n",
    "df = pd.DataFrame(data)\n",
    "X = df.iloc[:, 0].values\n",
    "Y = df.iloc[:, 1].values\n",
    "\n",
    "n = df.shape[0]  # rows\n",
    "\n",
    "# Building the model\n",
    "m = 0.0\n",
    "b = 0.0\n",
    "\n",
    "sample_size = 2  # sample size\n",
    "L = .0001  # The learning Rate\n",
    "epochs = 100000  # The number of iterations to perform gradient descent\n",
    "\n",
    "# Performing Stochastic Gradient Descent\n",
    "for i in range(epochs):\n",
    "    idx = np.random.choice(n, sample_size, replace=False)\n",
    "    x_sample = X[idx]\n",
    "    y_sample = Y[idx]\n",
    "\n",
    "    # The current predicted value of Y\n",
    "    Y_pred = m * x_sample + b\n",
    "\n",
    "    # d/dm derivative of loss function\n",
    "    D_m = (-2 / sample_size) * sum(x_sample * (y_sample - Y_pred))\n",
    "\n",
    "    # d/db derivative of loss function\n",
    "    D_b = (-2 / sample_size) * sum(y_sample - Y_pred)\n",
    "    m = m - L * D_m  # Update m\n",
    "    b = b - L * D_b  # Update b\n",
    "\n",
    "    # print progress\n",
    "    if i % 10000 == 0:\n",
    "        print(i, m, b)\n",
    "\n",
    "print(\"y = {0}x + {1}\".format(m, b))"
   ]
  },
  {
   "cell_type": "markdown",
   "id": "f1afee60-e52a-4177-b4bc-98407b67fa82",
   "metadata": {},
   "source": [
    "**Correlation Coefficient**\n",
    "- same as pearson correlation\n",
    "- between -1 and 1\n",
    "- useful to see if there is possible relationship between two variables\n",
    "- less correlation, less useful for linear regression\n",
    "- correlation matrix: shows correlation between every pair of variables"
   ]
  },
  {
   "cell_type": "code",
   "execution_count": 2,
   "id": "77203243-f03c-4d87-8958-437cd9b4d1e7",
   "metadata": {},
   "outputs": [
    {
     "name": "stdout",
     "output_type": "stream",
     "text": [
      "          x         y\n",
      "x  1.000000  0.957586\n",
      "y  0.957586  1.000000\n"
     ]
    }
   ],
   "source": [
    "# creating dataset\n",
    "data = {\"x\":[1,2,3,4,5,6,7,8,9,10],\n",
    "        \"y\":[5,10,10,15,14,15,19,18,25,23]}\n",
    "df = pd.DataFrame(data)\n",
    "\n",
    "# calculate and print correlations\n",
    "correlations = df.corr(method=\"pearson\")\n",
    "print(correlations)"
   ]
  },
  {
   "cell_type": "markdown",
   "id": "bd984d6c-6b5f-4a74-9870-9c62a6a92cbb",
   "metadata": {},
   "source": [
    "**Statistical significance**\n",
    "- consider: is correlation coincidental? or causal?"
   ]
  },
  {
   "cell_type": "code",
   "execution_count": null,
   "id": "9536d54e-6226-4d32-9746-56d8c51960f1",
   "metadata": {},
   "outputs": [],
   "source": []
  }
 ],
 "metadata": {
  "kernelspec": {
   "display_name": "venv",
   "language": "python",
   "name": "venv"
  },
  "language_info": {
   "codemirror_mode": {
    "name": "ipython",
    "version": 3
   },
   "file_extension": ".py",
   "mimetype": "text/x-python",
   "name": "python",
   "nbconvert_exporter": "python",
   "pygments_lexer": "ipython3",
   "version": "3.9.6"
  }
 },
 "nbformat": 4,
 "nbformat_minor": 5
}
