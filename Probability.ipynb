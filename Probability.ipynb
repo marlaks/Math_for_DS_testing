{
 "cells": [
  {
   "cell_type": "markdown",
   "id": "6828aeab-ea11-409f-bbb7-4902ce274acd",
   "metadata": {},
   "source": [
    "**Probability**\n",
    "- how likely do we think an event will happen?\n",
    "- ie 90% sure\n",
    "- Probability of event X happening: P(X)\n",
    "- in 90% case: P(X) = 0.9\n",
    "\n",
    "**Likelyhood**\n",
    "- measures the frequency an event has happened in the past\n",
    "- in ML likelyhood (the past) is often used to predict probability (future)\n",
    "\n",
    "**Odds**\n",
    "- alternate way of expressing probability, ie the odds are 2 or 7/3\n",
    "- formulated as O(X)\n",
    "- P(X) = O(X)/(1+O(X))\n",
    "- Odds play a role in Bayesian statistics as well as logistic regression\n",
    "\n",
    "**Probability vs Statistics**\n",
    "- Probability calculates the probability of an outcome\n",
    "- statistics uses data to estimate it\n",
    "\n",
    "**Calculating Probabilities**\n",
    "- count all possible outcomes, ie 12\n",
    "- probability of 1 specific event happening: 1/12\n",
    "\n",
    "**Marginal Probability**\n",
    "- P(X) for exactly one outcome\n",
    "\n",
    "**Joint Probability**\n",
    "- probability of two independent events occuring together\n",
    "- P(A AND B) = P(A) * P(B)\n",
    "\n",
    "**Union Probability**\n",
    "- probability of getting event A or B\n",
    "  \n",
    "- *mutually exclusive events*: Only one of the events can happen. Ie rolling a dice. You cant get a 4 and a 6 with one dice\n",
    "- P(A OR B) = P(A) + P(B) = 1/6 + 1/6 = 2/6 = 1/3\n",
    "\n",
    "- *non mutually exclusive events*: The events can happen together. Ie rolling a dice and tossing a coin. What is P(heads OR 6)? There are multiple scenarios where this can happen\n",
    "- in this case you can add the probabilities, but you have to substract the joint probability\n",
    "- P(A OR B) = P(A) + P(B) - P(A AND B)\n",
    "- P(A OR B) = P(A) + P(B) - P(A) * P(B)\n"
   ]
  },
  {
   "cell_type": "code",
   "execution_count": null,
   "id": "7510a684-2887-4806-958a-61164275e957",
   "metadata": {},
   "outputs": [],
   "source": []
  }
 ],
 "metadata": {
  "kernelspec": {
   "display_name": "venv",
   "language": "python",
   "name": "venv"
  },
  "language_info": {
   "codemirror_mode": {
    "name": "ipython",
    "version": 3
   },
   "file_extension": ".py",
   "mimetype": "text/x-python",
   "name": "python",
   "nbconvert_exporter": "python",
   "pygments_lexer": "ipython3",
   "version": "3.9.6"
  }
 },
 "nbformat": 4,
 "nbformat_minor": 5
}
