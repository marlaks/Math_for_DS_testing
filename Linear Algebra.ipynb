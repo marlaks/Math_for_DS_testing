{
 "cells": [
  {
   "cell_type": "code",
   "execution_count": 2,
   "id": "0048f6d0-6b0e-4fe9-af8b-8cbdb9695bb1",
   "metadata": {},
   "outputs": [],
   "source": [
    "import numpy as np"
   ]
  },
  {
   "cell_type": "markdown",
   "id": "04ac3c01-8cf6-43c5-962f-299cd27b60cf",
   "metadata": {},
   "source": [
    "## Linear Algebra\n",
    "- Vectors and Matrices\n",
    "- concerns itself with linear systems but represents them through vectors and matrices"
   ]
  },
  {
   "cell_type": "markdown",
   "id": "7b0d8674-4889-41c0-913d-ba8b168a6183",
   "metadata": {},
   "source": [
    "**Vector**\n",
    "- simply put: arrow in space with specific direction and length\n",
    "- often represents a piece of data\n",
    "- central building block of linear algebra"
   ]
  },
  {
   "cell_type": "code",
   "execution_count": 4,
   "id": "706b4d6b-bc7c-4a20-a284-e812937f3313",
   "metadata": {},
   "outputs": [
    {
     "name": "stdout",
     "output_type": "stream",
     "text": [
      "[3, 2]\n"
     ]
    }
   ],
   "source": [
    "# example vector\n",
    "v = [3,2]\n",
    "print(v)"
   ]
  },
  {
   "cell_type": "markdown",
   "id": "48ed5756-1b30-4a56-b9c0-4920e371b193",
   "metadata": {},
   "source": [
    "- in practice one would rather use numpy to work with vectors than plane python"
   ]
  },
  {
   "cell_type": "code",
   "execution_count": 3,
   "id": "a2443b4a-917f-4b93-b989-c11cb044a785",
   "metadata": {},
   "outputs": [
    {
     "name": "stdout",
     "output_type": "stream",
     "text": [
      "[3 2]\n"
     ]
    }
   ],
   "source": [
    "# using numpy\n",
    "v = np.array([3,2])\n",
    "print(v)"
   ]
  },
  {
   "cell_type": "markdown",
   "id": "67e82136-f26a-4c17-862e-c9d5bdbac3a6",
   "metadata": {},
   "source": [
    "- vectors have many practical applications\n",
    "- physics: direction and magnitude\n",
    "- math: direction and scale on XY plane\n",
    "- computer and data science: Array of numbers storing data"
   ]
  },
  {
   "cell_type": "code",
   "execution_count": 7,
   "id": "a78691bd-7ac0-45d3-a434-c0d1c4caf22e",
   "metadata": {},
   "outputs": [
    {
     "name": "stdout",
     "output_type": "stream",
     "text": [
      "[3 5 2]\n",
      "[1 4 3 6 8]\n"
     ]
    }
   ],
   "source": [
    "# 3 dimensional vector\n",
    "v = np.array([3,5,2])\n",
    "print(v)\n",
    "\n",
    "#5 dimensional vector\n",
    "v = np.array([1,4,3,6,8])\n",
    "print(v)"
   ]
  },
  {
   "cell_type": "markdown",
   "id": "0201a2c1-ff8a-4047-8a07-4ef8422a7a61",
   "metadata": {},
   "source": [
    "**Adding Vectors**\n",
    "- add or substract each x or y (or more) values\n",
    "- graphical meaning: v1 starts at (0,0). at end of v1 add v2 (so it starts at end of v1 not 0,0). Then draw line from (0,0) to end of v2. this is the rsulting vector of v1 + v2\n",
    "- order of operation does not matter. v1 + v2 = v2 + v1"
   ]
  },
  {
   "cell_type": "code",
   "execution_count": 9,
   "id": "cebfb5cd-f9c3-43e8-a1a5-c877b0bbc654",
   "metadata": {},
   "outputs": [
    {
     "name": "stdout",
     "output_type": "stream",
     "text": [
      "[ 1 11]\n"
     ]
    }
   ],
   "source": [
    "v1 = np.array([3,5])\n",
    "v2 = np.array([-2, 6])\n",
    "print(v1 + v2)"
   ]
  },
  {
   "cell_type": "markdown",
   "id": "e9c4e750-3645-4aa0-9a6e-1c791162f122",
   "metadata": {},
   "source": [
    "**Scaling Vectors**\n",
    "- scaling = growing or shrinking a vectors length\n",
    "- by multiplication with a scalar (single value)\n",
    "- you multiply each value of the vector by the scalar"
   ]
  },
  {
   "cell_type": "code",
   "execution_count": 11,
   "id": "50499449-880c-4b71-90a5-0b132c05b37f",
   "metadata": {},
   "outputs": [
    {
     "name": "stdout",
     "output_type": "stream",
     "text": [
      "[4 6]\n"
     ]
    }
   ],
   "source": [
    "v = np.array([2,3])\n",
    "s = 2\n",
    "print(v*s)"
   ]
  },
  {
   "cell_type": "markdown",
   "id": "ba51ed77-06fb-440c-9e48-7a1db808ddb3",
   "metadata": {},
   "source": [
    "**Span**\n",
    "- through adding and scalling two vectors, you can create any other vector\n",
    "- the space of possible vectors is called span\n",
    "- usually span can create an unlimited amount of resulting vectors"
   ]
  },
  {
   "cell_type": "markdown",
   "id": "0e48039a-22b8-47bd-b72f-f65457afbcb9",
   "metadata": {},
   "source": [
    "**Linear independent vectors**\n",
    "- vectors that have different direction are linear independent\n",
    "- they have unlimited span"
   ]
  },
  {
   "cell_type": "markdown",
   "id": "3eac99d0-1c31-4157-8eef-0d62f8295959",
   "metadata": {},
   "source": [
    "**Linear dependent vectors**\n",
    "- vectors have same direction\n",
    "- span is limited to be on that same direction\n",
    "- impossible to create any new vectors by scaling\n",
    "- in 3 or more dimensions, when all vectors are linearly dependent, they are usually stuck on a less dimensional plane\n",
    "- ie 2d plane instead of 3d"
   ]
  },
  {
   "cell_type": "markdown",
   "id": "08bf3405-5314-4677-9550-c0f1ca51b037",
   "metadata": {},
   "source": [
    "**Why linearly independent vs dependent**\n",
    "- a lot of problems become difficult or unsolvable when vectors are linearly dependent\n",
    "- for example linearly dependent set of equations can become impossible to solve"
   ]
  },
  {
   "cell_type": "markdown",
   "id": "86400681-dcd0-4786-98cd-7c94eb80f79c",
   "metadata": {},
   "source": [
    "**Linear transformation**\n",
    "- use of vectors to change other vector, through adding  scaling etc"
   ]
  },
  {
   "cell_type": "markdown",
   "id": "5f6ab914-7969-4b30-8ecf-53b01c1fccd5",
   "metadata": {},
   "source": [
    "**Basis Vector**\n",
    "- are used as a set of vectors to transform other vectors\n",
    "- usually have length 1 and point in perpendicular positive direction\n",
    "- basis vector = ([i][j]) = ([1,0][0,1])\n",
    "- we can create any vector we want by scaling and adding the two vectors"
   ]
  },
  {
   "cell_type": "markdown",
   "id": "e660a744-f5ae-49e8-bf60-b93ad9867f87",
   "metadata": {},
   "source": [
    "**Linear transformation Movements**\n",
    "- scale: stretching or shortening the \n",
    "- rotation: flip sign, so point vector in other direction\n",
    "- inversion: flip the columns, so i and j swap \n",
    "- shear: same as scaling, but using value from other row. ie prolonging along the x axis not y axis\n",
    "- cant have transformations that are non-linear and result in curves etc"
   ]
  },
  {
   "cell_type": "markdown",
   "id": "6d3a3015-05f1-4174-9632-959b83f7f3b8",
   "metadata": {},
   "source": [
    "**Matrix vector multiplication**\n",
    "- ([1,2][3,4]) * [x,y] = [1*x + 3y, 2*x + 4y]\n",
    "- is called dot product"
   ]
  },
  {
   "cell_type": "code",
   "execution_count": 14,
   "id": "e6cd7a13-bc35-4c7d-9a36-a26a2b5c42ff",
   "metadata": {},
   "outputs": [
    {
     "name": "stdout",
     "output_type": "stream",
     "text": [
      "[[3 0]\n",
      " [0 2]]\n",
      "[1 1]\n",
      "[3 2]\n"
     ]
    }
   ],
   "source": [
    "# create basic matrix\n",
    "basic = np.array([[3,0],[0,2]])\n",
    "print(basic)\n",
    "\n",
    "# create vector to multiply it\n",
    "v = np.array([1,1])\n",
    "print(v)\n",
    "\n",
    "# create new vector by using dot product\n",
    "print(basic.dot(v))"
   ]
  },
  {
   "cell_type": "code",
   "execution_count": 19,
   "id": "6323c25e-9533-42e6-8a3d-1e14d2fa55f5",
   "metadata": {},
   "outputs": [
    {
     "name": "stdout",
     "output_type": "stream",
     "text": [
      "[3 0] [0 2]\n",
      "[[3 0]\n",
      " [0 2]]\n",
      "[1 1]\n",
      "[3 2]\n"
     ]
    }
   ],
   "source": [
    "# author prefers creating basis vectors independently and putting them into a matrix then\n",
    "# need to use transpose because numpy will do it the wrong way\n",
    "\n",
    "i_hat = np.array([3,0])\n",
    "j_hat = np.array([0,2])\n",
    "print(i_hat, j_hat)\n",
    "\n",
    "basis = np.array([i_hat, j_hat]).transpose()\n",
    "print(basis)\n",
    "\n",
    "v = np.array([1,1])\n",
    "print(v)\n",
    "\n",
    "print(basis.dot(v))"
   ]
  },
  {
   "cell_type": "markdown",
   "id": "03cad015-6565-4f9c-92bc-3c9184d4d6b3",
   "metadata": {},
   "source": [
    "**Basis vectors in 3d and more**\n",
    "- you just use more basis vactors, ie i,j,k and more"
   ]
  },
  {
   "cell_type": "markdown",
   "id": "bb533641-7286-4299-8e1d-dab37d976b4c",
   "metadata": {},
   "source": [
    "**Matrix Multiplication**\n",
    "- matrix multiplication adds multiple transformations to the vector space\n",
    "- for example, you could add a rotation and then a shear to a vector\n",
    "- in this case you would first multiply the rotation matrix and the shear matrix\n",
    "- and then multiply hte resulting matrix with the vector\n",
    "- example below: using np.transpose() so np stores array in desired shape\n",
    "- multiplication order matters!"
   ]
  },
  {
   "cell_type": "code",
   "execution_count": 30,
   "id": "79bb9b1e-a4c5-42a7-b3cc-66fcae4658a7",
   "metadata": {},
   "outputs": [
    {
     "name": "stdout",
     "output_type": "stream",
     "text": [
      "[[ 0 -1]\n",
      " [ 1  0]]\n",
      "[[1 1]\n",
      " [0 1]]\n",
      "[1 2]\n",
      "[[ 1 -1]\n",
      " [ 1  0]]\n",
      "[-1  1]\n"
     ]
    }
   ],
   "source": [
    "# rotation matrix\n",
    "r = np.transpose(np.array([[0,1],[-1,0]]))\n",
    "print(r)\n",
    "\n",
    "# shear matrix\n",
    "sh = np.transpose(np.array([[1,0],[1,1]]))\n",
    "print(sh)\n",
    "\n",
    "# vector\n",
    "v = np.array([1,2])\n",
    "print(v)\n",
    "\n",
    "# rotation * shear\n",
    "r_sh = sh @ r\n",
    "print(r_sh)\n",
    "\n",
    "# result * v\n",
    "print(r_sh.dot(v))"
   ]
  },
  {
   "cell_type": "code",
   "execution_count": null,
   "id": "e8ce3647-7509-4e33-aa77-468efda2f224",
   "metadata": {},
   "outputs": [],
   "source": []
  }
 ],
 "metadata": {
  "kernelspec": {
   "display_name": "venv",
   "language": "python",
   "name": "venv"
  },
  "language_info": {
   "codemirror_mode": {
    "name": "ipython",
    "version": 3
   },
   "file_extension": ".py",
   "mimetype": "text/x-python",
   "name": "python",
   "nbconvert_exporter": "python",
   "pygments_lexer": "ipython3",
   "version": "3.9.6"
  }
 },
 "nbformat": 4,
 "nbformat_minor": 5
}
