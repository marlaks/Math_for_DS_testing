{
 "cells": [
  {
   "cell_type": "code",
   "execution_count": 6,
   "id": "e240c584-c070-4c28-8ec0-27402f89753f",
   "metadata": {},
   "outputs": [],
   "source": [
    "from scipy.stats import binom, beta"
   ]
  },
  {
   "cell_type": "markdown",
   "id": "6828aeab-ea11-409f-bbb7-4902ce274acd",
   "metadata": {},
   "source": [
    "**Probability**\n",
    "- how likely do we think an event will happen?\n",
    "- ie 90% sure\n",
    "- Probability of event X happening: P(X)\n",
    "- in 90% case: P(X) = 0.9\n",
    "\n",
    "**Likelyhood**\n",
    "- measures the frequency an event has happened in the past\n",
    "- in ML likelyhood (the past) is often used to predict probability (future)\n",
    "\n",
    "**Odds**\n",
    "- alternate way of expressing probability, ie the odds are 2 or 7/3\n",
    "- formulated as O(X)\n",
    "- P(X) = O(X)/(1+O(X))\n",
    "- Odds play a role in Bayesian statistics as well as logistic regression\n",
    "\n",
    "**Probability vs Statistics**\n",
    "- Probability calculates the probability of an outcome\n",
    "- statistics uses data to estimate it\n",
    "\n",
    "**Calculating Probabilities**\n",
    "- count all possible outcomes, ie 12\n",
    "- probability of 1 specific event happening: 1/12\n",
    "\n",
    "**Marginal Probability**\n",
    "- P(X) for exactly one outcome\n",
    "\n",
    "**Joint Probability**\n",
    "- probability of two independent events occuring together\n",
    "- P(A AND B) = P(A) * P(B)\n",
    "\n",
    "**Union Probability**\n",
    "- probability of getting event A or B\n",
    "  \n",
    "- *mutually exclusive events*: Only one of the events can happen. Ie rolling a dice. You cant get a 4 and a 6 with one dice\n",
    "- P(A OR B) = P(A) + P(B) = 1/6 + 1/6 = 2/6 = 1/3\n",
    "\n",
    "- *non mutually exclusive events*: The events can happen together. Ie rolling a dice and tossing a coin. What is P(heads OR 6)? There are multiple scenarios where this can happen\n",
    "- in this case you can add the probabilities, but you have to substract the joint probability\n",
    "- P(A OR B) = P(A) + P(B) - P(A AND B)\n",
    "- P(A OR B) = P(A) + P(B) - P(A) * P(B)\n"
   ]
  },
  {
   "cell_type": "markdown",
   "id": "0574de0b-24b3-4d40-bc8a-20e79c611f50",
   "metadata": {},
   "source": [
    "**Conditional Probability**\n",
    "- P(A) given event B has occurred\n",
    "- P(A GIVEN B) or P(A|B)\n",
    "- ex: 85% of cancer patients drink coffee. P(coffee|cancer)\n",
    "- directionality matters!\n",
    "- P(coffee|cancer) doesnt really say anything. P(cancer|coffee) is important one\n",
    "- P(cancer|coffee)?"
   ]
  },
  {
   "cell_type": "markdown",
   "id": "35b735b1-54d1-4a7c-9dca-e30f71fabc88",
   "metadata": {},
   "source": [
    "**Bayes Theorem**\n",
    "- Bayes Theorem can be used to flip conditional probabilities\n",
    "- P(A|B) = (P(B|A)*P(A))/P(B)\n",
    "- P(cancer|coffee) = 0.0065\n",
    "- Bayes Theorem can also be used to chain multiple conditional probabilities together to keep updating the belief based on new information"
   ]
  },
  {
   "cell_type": "markdown",
   "id": "4a2cb2dc-b012-466a-9e1e-e63a8b86d0c7",
   "metadata": {},
   "source": [
    "**Joint conditional Probability**\n",
    "- P(coffee AND cancer) notice: not P(coffee|cancer)\n",
    "- P(coffee AND cancer) = P(coffee|cancer) * P(cancer)\n",
    "- coffee And cancer = P(cancer) * P(coffee if someone has cancer)\n",
    "- P(A AND B) = P(B) * P(A|B)"
   ]
  },
  {
   "cell_type": "markdown",
   "id": "75c18925-b973-4191-928f-7dc2cf218fc4",
   "metadata": {},
   "source": [
    "**Union conditional probability**\n",
    "- P(A OR B) = P(A) + P(B) - P(A|B) * P(B)"
   ]
  },
  {
   "cell_type": "markdown",
   "id": "5898efdf-2baa-4803-b1ad-9245bd6cd426",
   "metadata": {},
   "source": [
    "**Binomial Distribution**\n",
    "-  how likely k successes can happen out of n trials given P probability\n",
    "-  ie: a jet test is 90% likely to be successfull. Binomial distribution shows the probability of ie 8 successes out of 10 trials.\n",
    "-  binomial distribution assumes the underlying success rate"
   ]
  },
  {
   "cell_type": "code",
   "execution_count": 5,
   "id": "9684246c-886a-4068-a050-7cc6ba2b3862",
   "metadata": {},
   "outputs": [
    {
     "name": "stdout",
     "output_type": "stream",
     "text": [
      "0 - 9.999999999999981e-11\n",
      "1 - 8.999999999999986e-09\n",
      "2 - 3.644999999999997e-07\n",
      "3 - 8.747999999999995e-06\n",
      "4 - 0.00013778099999999982\n",
      "5 - 0.0014880347999999988\n",
      "6 - 0.011160261000000001\n",
      "7 - 0.05739562799999998\n",
      "8 - 0.1937102445\n",
      "9 - 0.387420489\n",
      "10 - 0.3486784401000001\n"
     ]
    }
   ],
   "source": [
    "n = 10\n",
    "p = 0.9\n",
    "\n",
    "for k in range(n+1):\n",
    "    probability = binom.pmf(k,n,p)\n",
    "    print(k,\"-\",probability)"
   ]
  },
  {
   "cell_type": "markdown",
   "id": "b496bb6d-6967-4701-a4c7-da3fe814fb77",
   "metadata": {},
   "source": [
    "**Beta Distribution**\n",
    "- given *alpha* successes and *beta* failures, the beta distribution shows us the likelyhood of different underlying probabilities of success or failure (or any other event in question)\n",
    "- beta distribution is a *probability distribution*, meaning the entire area under the curve is 1 or 100%\n",
    "- so we define a range that represents success and calculate the area under the curve"
   ]
  },
  {
   "cell_type": "markdown",
   "id": "24217aa2-36f3-4f6d-b559-344d9fdbe756",
   "metadata": {},
   "source": [
    "**Cumulative Distribution Function**\n",
    "- every continuous probability distribution has a CDF which calculates area up to a given x-value\n",
    "- Example using CDF on Beta Distribution described above:"
   ]
  },
  {
   "cell_type": "code",
   "execution_count": 7,
   "id": "2c236430-6964-4192-8b6f-33fdf8d7c178",
   "metadata": {},
   "outputs": [
    {
     "name": "stdout",
     "output_type": "stream",
     "text": [
      "0.7748409780000002\n"
     ]
    }
   ],
   "source": [
    "a = 8 # successes\n",
    "b = 2 # failures\n",
    "\n",
    "p = beta.cdf(.90, a, b)\n",
    "print(p)"
   ]
  },
  {
   "cell_type": "markdown",
   "id": "7536be02-8dff-4458-bf2e-fd133b8ce636",
   "metadata": {},
   "source": [
    "-> *this means the likelyhood of the underlying probability of success given 8 successes and 2 failures being less than 90% is 77.48%*"
   ]
  },
  {
   "cell_type": "code",
   "execution_count": 8,
   "id": "f8ce262b-ec9b-4e21-bca2-f45569e66e69",
   "metadata": {},
   "outputs": [
    {
     "name": "stdout",
     "output_type": "stream",
     "text": [
      "0.22515902199999982\n"
     ]
    }
   ],
   "source": [
    "a = 8 # successes\n",
    "b = 2 # failures\n",
    "\n",
    "p = 1 - beta.cdf(.90, a, b)\n",
    "print(p)"
   ]
  },
  {
   "cell_type": "markdown",
   "id": "13ee3c49-3c2c-4985-85f2-673e491ef7d2",
   "metadata": {},
   "source": [
    "-> *this means the likelyhood of the underlying probability of success being over 90%, given 8 successes and 2 losses, is 22.52%*"
   ]
  },
  {
   "cell_type": "markdown",
   "id": "78294a8d-08bc-4756-b7f2-16db978d95a6",
   "metadata": {},
   "source": [
    "**Exercises**"
   ]
  },
  {
   "cell_type": "markdown",
   "id": "171530d3-4767-405b-a5eb-f6ff3eda0921",
   "metadata": {},
   "source": [
    "*ex 4*\n",
    "- 137 booked passengers\n",
    "- P(NO SHOW) = 0.4\n",
    "- P(at least 50 NO SHOWS)?"
   ]
  },
  {
   "cell_type": "markdown",
   "id": "93d62f11-975f-4faa-83cf-8f8e2222afb5",
   "metadata": {},
   "source": [
    "- binom: assuming 0.4 P of success, how likely 50 or more show up out of 137 tries\n",
    "- sum the likelyhood of each case where k > 50\n",
    "- beta: assuming a successes and b failures, what is likelyhood of underlying probability being in a certain range"
   ]
  },
  {
   "cell_type": "code",
   "execution_count": 18,
   "id": "8b182cb4-fb73-46f1-af5d-11cd9342199b",
   "metadata": {},
   "outputs": [
    {
     "name": "stdout",
     "output_type": "stream",
     "text": [
      "0.8220955881474249\n"
     ]
    }
   ],
   "source": [
    "n = 137\n",
    "p = 0.4\n",
    "p_more_than_50_noshow = 0.0\n",
    "\n",
    "for k in range(50,138):\n",
    "    p_more_than_50_noshow += binom.pmf(k,n,p)\n",
    "\n",
    "print(p_more_than_50_noshow)"
   ]
  },
  {
   "cell_type": "markdown",
   "id": "c8573b8f-24e7-4a4c-901c-8a17c0b750c7",
   "metadata": {},
   "source": [
    "ex 5\n",
    "- 19 coin flips\n",
    "- 15 heads\n",
    "- 4 tails\n",
    "- good prob of being fair? Ie how high likelyhood of heads between 40 and 60 percent?"
   ]
  },
  {
   "cell_type": "code",
   "execution_count": 20,
   "id": "7126c119-ae6b-46bb-aabb-776834d0b2f2",
   "metadata": {},
   "outputs": [
    {
     "name": "stdout",
     "output_type": "stream",
     "text": [
      "0.03256646286049279\n"
     ]
    }
   ],
   "source": [
    "a = 15 # heads\n",
    "b = 4 # tails\n",
    "\n",
    "p = beta.cdf(.60, a, b) - beta.cdf(.40, a, b)\n",
    "print(p)"
   ]
  },
  {
   "cell_type": "code",
   "execution_count": null,
   "id": "5ff12bd2-7584-4191-a241-adc820ee4b83",
   "metadata": {},
   "outputs": [],
   "source": []
  }
 ],
 "metadata": {
  "kernelspec": {
   "display_name": "venv",
   "language": "python",
   "name": "venv"
  },
  "language_info": {
   "codemirror_mode": {
    "name": "ipython",
    "version": 3
   },
   "file_extension": ".py",
   "mimetype": "text/x-python",
   "name": "python",
   "nbconvert_exporter": "python",
   "pygments_lexer": "ipython3",
   "version": "3.9.6"
  }
 },
 "nbformat": 4,
 "nbformat_minor": 5
}
