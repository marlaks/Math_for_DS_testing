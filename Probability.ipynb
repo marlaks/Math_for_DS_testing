{
 "cells": [
  {
   "cell_type": "markdown",
   "id": "6828aeab-ea11-409f-bbb7-4902ce274acd",
   "metadata": {},
   "source": [
    "**Probability**\n",
    "- how likely do we think an event will happen?\n",
    "- ie 90% sure\n",
    "- Probability of event X happening: P(X)\n",
    "- in 90% case: P(X) = 0.9\n",
    "\n",
    "**Likelyhood**\n",
    "- measures the frequency an event has happened in the past\n",
    "- in ML likelyhood (the past) is often used to predict probability (future)\n",
    "\n",
    "**Odds**\n",
    "- alternate way of expressing probability, ie the odds are 2 or 7/3\n",
    "- formulated as O(X)\n",
    "- P(X) = O(X)/(1+O(X))\n",
    "- Odds play a role in Bayesian statistics as well as logistic regression\n",
    "\n",
    "**Probability vs Statistics**\n",
    "- Probability calculates the probability of an outcome\n",
    "- statistics uses data to estimate it\n",
    "\n",
    "**Calculating Probabilities**\n",
    "- count all possible outcomes, ie 12\n",
    "- probability of 1 specific event happening: 1/12\n",
    "\n",
    "**Marginal Probability**\n",
    "- P(X) for exactly one outcome\n",
    "\n",
    "**Joint Probability**\n",
    "- probability of two independent events occuring together\n",
    "- P(A AND B) = P(A) * P(B)\n",
    "\n",
    "**Union Probability**\n",
    "- probability of getting event A or B\n",
    "  \n",
    "- *mutually exclusive events*: Only one of the events can happen. Ie rolling a dice. You cant get a 4 and a 6 with one dice\n",
    "- P(A OR B) = P(A) + P(B) = 1/6 + 1/6 = 2/6 = 1/3\n",
    "\n",
    "- *non mutually exclusive events*: The events can happen together. Ie rolling a dice and tossing a coin. What is P(heads OR 6)? There are multiple scenarios where this can happen\n",
    "- in this case you can add the probabilities, but you have to substract the joint probability\n",
    "- P(A OR B) = P(A) + P(B) - P(A AND B)\n",
    "- P(A OR B) = P(A) + P(B) - P(A) * P(B)\n"
   ]
  },
  {
   "cell_type": "markdown",
   "id": "0574de0b-24b3-4d40-bc8a-20e79c611f50",
   "metadata": {},
   "source": [
    "**Conditional Probability**\n",
    "- P(A) given event B has occurred\n",
    "- P(A GIVEN B) or P(A|B)\n",
    "- ex: 85% of cancer patients drink coffee. P(coffee|cancer)\n",
    "- directionality matters!\n",
    "- P(coffee|cancer) doesnt really say anything. P(cancer|coffee) is important one\n",
    "- P(cancer|coffee)?"
   ]
  },
  {
   "cell_type": "markdown",
   "id": "35b735b1-54d1-4a7c-9dca-e30f71fabc88",
   "metadata": {},
   "source": [
    "**Bayes Theorem**\n",
    "- Bayes Theorem can be used to flip conditional probabilities\n",
    "- P(A|B) = (P(B|A)*P(A))/P(B)\n",
    "- P(cancer|coffee) = 0.0065\n",
    "- Bayes Theorem can also be used to chain multiple conditional probabilities together to keep updating the belief based on new information"
   ]
  },
  {
   "cell_type": "markdown",
   "id": "4a2cb2dc-b012-466a-9e1e-e63a8b86d0c7",
   "metadata": {},
   "source": [
    "**Joint conditional Probability**\n",
    "- P(coffee AND cancer) notice: not P(coffee|cancer)\n",
    "- P(coffee AND cancer) = P(coffee|cancer) * P(cancer)\n",
    "- coffee And cancer = P(cancer) * P(coffee if someone has cancer)\n",
    "- P(A AND B) = P(B) * P(A|B)"
   ]
  },
  {
   "cell_type": "markdown",
   "id": "75c18925-b973-4191-928f-7dc2cf218fc4",
   "metadata": {},
   "source": [
    "**Union conditional probability**\n",
    "- P(A OR B) = P(A) + P(B) - P(A|B) * P(B)"
   ]
  },
  {
   "cell_type": "code",
   "execution_count": null,
   "id": "ce2c26c2-c539-491f-8d02-2b9ba1c54754",
   "metadata": {},
   "outputs": [],
   "source": []
  }
 ],
 "metadata": {
  "kernelspec": {
   "display_name": "venv",
   "language": "python",
   "name": "venv"
  },
  "language_info": {
   "codemirror_mode": {
    "name": "ipython",
    "version": 3
   },
   "file_extension": ".py",
   "mimetype": "text/x-python",
   "name": "python",
   "nbconvert_exporter": "python",
   "pygments_lexer": "ipython3",
   "version": "3.9.6"
  }
 },
 "nbformat": 4,
 "nbformat_minor": 5
}
