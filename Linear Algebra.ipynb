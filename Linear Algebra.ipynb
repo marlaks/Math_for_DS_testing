{
 "cells": [
  {
   "cell_type": "code",
   "execution_count": 1,
   "id": "0048f6d0-6b0e-4fe9-af8b-8cbdb9695bb1",
   "metadata": {},
   "outputs": [],
   "source": [
    "import numpy as np"
   ]
  },
  {
   "cell_type": "markdown",
   "id": "04ac3c01-8cf6-43c5-962f-299cd27b60cf",
   "metadata": {},
   "source": [
    "## Linear Algebra\n",
    "- Vectors and Matrices\n",
    "- concerns itself with linear systems but represents them through vectors and matrices"
   ]
  },
  {
   "cell_type": "markdown",
   "id": "7b0d8674-4889-41c0-913d-ba8b168a6183",
   "metadata": {},
   "source": [
    "**Vector**\n",
    "- simply put: arrow in space with specific direction and length\n",
    "- often represents a piece of data\n",
    "- central building block of linear algebra"
   ]
  },
  {
   "cell_type": "code",
   "execution_count": 4,
   "id": "706b4d6b-bc7c-4a20-a284-e812937f3313",
   "metadata": {},
   "outputs": [
    {
     "name": "stdout",
     "output_type": "stream",
     "text": [
      "[3, 2]\n"
     ]
    }
   ],
   "source": [
    "# example vector\n",
    "v = [3,2]\n",
    "print(v)"
   ]
  },
  {
   "cell_type": "markdown",
   "id": "48ed5756-1b30-4a56-b9c0-4920e371b193",
   "metadata": {},
   "source": [
    "- in practice one would rather use numpy to work with vectors than plane python"
   ]
  },
  {
   "cell_type": "code",
   "execution_count": 3,
   "id": "a2443b4a-917f-4b93-b989-c11cb044a785",
   "metadata": {},
   "outputs": [
    {
     "name": "stdout",
     "output_type": "stream",
     "text": [
      "[3 2]\n"
     ]
    }
   ],
   "source": [
    "# using numpy\n",
    "v = np.array([3,2])\n",
    "print(v)"
   ]
  },
  {
   "cell_type": "markdown",
   "id": "67e82136-f26a-4c17-862e-c9d5bdbac3a6",
   "metadata": {},
   "source": [
    "- vectors have many practical applications\n",
    "- physics: direction and magnitude\n",
    "- math: direction and scale on XY plane\n",
    "- computer and data science: Array of numbers storing data"
   ]
  },
  {
   "cell_type": "code",
   "execution_count": 7,
   "id": "a78691bd-7ac0-45d3-a434-c0d1c4caf22e",
   "metadata": {},
   "outputs": [
    {
     "name": "stdout",
     "output_type": "stream",
     "text": [
      "[3 5 2]\n",
      "[1 4 3 6 8]\n"
     ]
    }
   ],
   "source": [
    "# 3 dimensional vector\n",
    "v = np.array([3,5,2])\n",
    "print(v)\n",
    "\n",
    "#5 dimensional vector\n",
    "v = np.array([1,4,3,6,8])\n",
    "print(v)"
   ]
  },
  {
   "cell_type": "markdown",
   "id": "0201a2c1-ff8a-4047-8a07-4ef8422a7a61",
   "metadata": {},
   "source": [
    "**Adding Vectors**\n",
    "- add or substract each x or y (or more) values\n",
    "- graphical meaning: v1 starts at (0,0). at end of v1 add v2 (so it starts at end of v1 not 0,0). Then draw line from (0,0) to end of v2. this is the rsulting vector of v1 + v2\n",
    "- order of operation does not matter. v1 + v2 = v2 + v1"
   ]
  },
  {
   "cell_type": "code",
   "execution_count": 9,
   "id": "cebfb5cd-f9c3-43e8-a1a5-c877b0bbc654",
   "metadata": {},
   "outputs": [
    {
     "name": "stdout",
     "output_type": "stream",
     "text": [
      "[ 1 11]\n"
     ]
    }
   ],
   "source": [
    "v1 = np.array([3,5])\n",
    "v2 = np.array([-2, 6])\n",
    "print(v1 + v2)"
   ]
  },
  {
   "cell_type": "markdown",
   "id": "e9c4e750-3645-4aa0-9a6e-1c791162f122",
   "metadata": {},
   "source": [
    "**Scaling Vectors**\n",
    "- scaling = growing or shrinking a vectors length\n",
    "- by multiplication with a scalar (single value)\n",
    "- you multiply each value of the vector by the scalar"
   ]
  },
  {
   "cell_type": "code",
   "execution_count": 11,
   "id": "50499449-880c-4b71-90a5-0b132c05b37f",
   "metadata": {},
   "outputs": [
    {
     "name": "stdout",
     "output_type": "stream",
     "text": [
      "[4 6]\n"
     ]
    }
   ],
   "source": [
    "v = np.array([2,3])\n",
    "s = 2\n",
    "print(v*s)"
   ]
  },
  {
   "cell_type": "markdown",
   "id": "ba51ed77-06fb-440c-9e48-7a1db808ddb3",
   "metadata": {},
   "source": [
    "**Span**\n",
    "- through adding and scalling two vectors, you can create any other vector\n",
    "- the space of possible vectors is called span\n",
    "- usually span can create an unlimited amount of resulting vectors"
   ]
  },
  {
   "cell_type": "markdown",
   "id": "0e48039a-22b8-47bd-b72f-f65457afbcb9",
   "metadata": {},
   "source": [
    "**Linear independent vectors**\n",
    "- vectors that have different direction are linear independent\n",
    "- they have unlimited span"
   ]
  },
  {
   "cell_type": "markdown",
   "id": "3eac99d0-1c31-4157-8eef-0d62f8295959",
   "metadata": {},
   "source": [
    "**Linear dependent vectors**\n",
    "- vectors have same direction\n",
    "- span is limited to be on that same direction\n",
    "- impossible to create any new vectors by scaling\n",
    "- in 3 or more dimensions, when all vectors are linearly dependent, they are usually stuck on a less dimensional plane\n",
    "- ie 2d plane instead of 3d"
   ]
  },
  {
   "cell_type": "markdown",
   "id": "08bf3405-5314-4677-9550-c0f1ca51b037",
   "metadata": {},
   "source": [
    "**Why linearly independent vs dependent**\n",
    "- a lot of problems become difficult or unsolvable when vectors are linearly dependent\n",
    "- for example linearly dependent set of equations can become impossible to solve"
   ]
  },
  {
   "cell_type": "markdown",
   "id": "86400681-dcd0-4786-98cd-7c94eb80f79c",
   "metadata": {},
   "source": [
    "**Linear transformation**\n",
    "- use of vectors to change other vector, through adding  scaling etc"
   ]
  },
  {
   "cell_type": "markdown",
   "id": "5f6ab914-7969-4b30-8ecf-53b01c1fccd5",
   "metadata": {},
   "source": [
    "**Basis Vector**\n",
    "- are used as a set of vectors to transform other vectors\n",
    "- usually have length 1 and point in perpendicular positive direction\n",
    "- basis vector = ([i][j]) = ([1,0][0,1])\n",
    "- we can create any vector we want by scaling and adding the two vectors"
   ]
  },
  {
   "cell_type": "markdown",
   "id": "e660a744-f5ae-49e8-bf60-b93ad9867f87",
   "metadata": {},
   "source": [
    "**Linear transformation Movements**\n",
    "- scale: stretching or shortening the \n",
    "- rotation: flip sign, so point vector in other direction\n",
    "- inversion: flip the columns, so i and j swap \n",
    "- shear: same as scaling, but using value from other row. ie prolonging along the x axis not y axis\n",
    "- cant have transformations that are non-linear and result in curves etc"
   ]
  },
  {
   "cell_type": "markdown",
   "id": "6d3a3015-05f1-4174-9632-959b83f7f3b8",
   "metadata": {},
   "source": [
    "**Matrix vector multiplication**\n",
    "- ([1,2][3,4]) * [x,y] = [1*x + 3y, 2*x + 4y]\n",
    "- is called dot product"
   ]
  },
  {
   "cell_type": "code",
   "execution_count": 14,
   "id": "e6cd7a13-bc35-4c7d-9a36-a26a2b5c42ff",
   "metadata": {},
   "outputs": [
    {
     "name": "stdout",
     "output_type": "stream",
     "text": [
      "[[3 0]\n",
      " [0 2]]\n",
      "[1 1]\n",
      "[3 2]\n"
     ]
    }
   ],
   "source": [
    "# create basic matrix\n",
    "basic = np.array([[3,0],[0,2]])\n",
    "print(basic)\n",
    "\n",
    "# create vector to multiply it\n",
    "v = np.array([1,1])\n",
    "print(v)\n",
    "\n",
    "# create new vector by using dot product\n",
    "print(basic.dot(v))"
   ]
  },
  {
   "cell_type": "code",
   "execution_count": 19,
   "id": "6323c25e-9533-42e6-8a3d-1e14d2fa55f5",
   "metadata": {},
   "outputs": [
    {
     "name": "stdout",
     "output_type": "stream",
     "text": [
      "[3 0] [0 2]\n",
      "[[3 0]\n",
      " [0 2]]\n",
      "[1 1]\n",
      "[3 2]\n"
     ]
    }
   ],
   "source": [
    "# author prefers creating basis vectors independently and putting them into a matrix then\n",
    "# need to use transpose because numpy will do it the wrong way\n",
    "\n",
    "i_hat = np.array([3,0])\n",
    "j_hat = np.array([0,2])\n",
    "print(i_hat, j_hat)\n",
    "\n",
    "basis = np.array([i_hat, j_hat]).transpose()\n",
    "print(basis)\n",
    "\n",
    "v = np.array([1,1])\n",
    "print(v)\n",
    "\n",
    "print(basis.dot(v))"
   ]
  },
  {
   "cell_type": "markdown",
   "id": "03cad015-6565-4f9c-92bc-3c9184d4d6b3",
   "metadata": {},
   "source": [
    "**Basis vectors in 3d and more**\n",
    "- you just use more basis vactors, ie i,j,k and more"
   ]
  },
  {
   "cell_type": "markdown",
   "id": "bb533641-7286-4299-8e1d-dab37d976b4c",
   "metadata": {},
   "source": [
    "**Matrix Multiplication**\n",
    "- matrix multiplication adds multiple transformations to the vector space\n",
    "- for example, you could add a rotation and then a shear to a vector\n",
    "- in this case you would first multiply the rotation matrix and the shear matrix\n",
    "- and then multiply hte resulting matrix with the vector\n",
    "- example below: using np.transpose() so np stores array in desired shape\n",
    "- multiplication order matters!"
   ]
  },
  {
   "cell_type": "code",
   "execution_count": 30,
   "id": "79bb9b1e-a4c5-42a7-b3cc-66fcae4658a7",
   "metadata": {},
   "outputs": [
    {
     "name": "stdout",
     "output_type": "stream",
     "text": [
      "[[ 0 -1]\n",
      " [ 1  0]]\n",
      "[[1 1]\n",
      " [0 1]]\n",
      "[1 2]\n",
      "[[ 1 -1]\n",
      " [ 1  0]]\n",
      "[-1  1]\n"
     ]
    }
   ],
   "source": [
    "# rotation matrix\n",
    "r = np.transpose(np.array([[0,1],[-1,0]]))\n",
    "print(r)\n",
    "\n",
    "# shear matrix\n",
    "sh = np.transpose(np.array([[1,0],[1,1]]))\n",
    "print(sh)\n",
    "\n",
    "# vector\n",
    "v = np.array([1,2])\n",
    "print(v)\n",
    "\n",
    "# rotation * shear\n",
    "r_sh = sh @ r\n",
    "print(r_sh)\n",
    "\n",
    "# result * v\n",
    "print(r_sh.dot(v))"
   ]
  },
  {
   "cell_type": "markdown",
   "id": "de785226-b44c-4197-babc-9489c86f800b",
   "metadata": {},
   "source": [
    "**Determinants**\n",
    "- determinant is the area covered by a matrix\n",
    "- is calculated using the matrix values\n",
    "- identity matrix has determinant 1"
   ]
  },
  {
   "cell_type": "code",
   "execution_count": 4,
   "id": "825b8c61-8e41-4cf8-940f-9f615b2ef08f",
   "metadata": {},
   "outputs": [
    {
     "name": "stdout",
     "output_type": "stream",
     "text": [
      "6.0\n"
     ]
    }
   ],
   "source": [
    "# calculating determinant\n",
    "\n",
    "basis = np.transpose(np.array([[3,0],[0,2]]))\n",
    "\n",
    "determinant = np.linalg.det(basis)\n",
    "\n",
    "print(determinant)"
   ]
  },
  {
   "cell_type": "markdown",
   "id": "ac8af216-ede4-4439-bfec-4d40f10fae44",
   "metadata": {},
   "source": [
    "- scaling will increase or decrease the determinant\n",
    "- flipping will flip its sign\n",
    "- if det = 0 then matrix is linearly dependent"
   ]
  },
  {
   "cell_type": "markdown",
   "id": "e885c7ad-3d64-46ff-952d-e7a8321e5f43",
   "metadata": {},
   "source": [
    "**Special Types of matrices**\n",
    "- square matrix: equal number rows and columns. Are requirement for many operations\n",
    "- identity matrix: square matrix with diagonal of 1s while other values are 0s. Consists of basis vectors after undoing all transformations\n",
    "- Inverse matrix: Undoes transformation on another matrix. So Inverse * Matrix = Identity matrix. Inverse notation: m**-1\n",
    "- diagonal matrix: like identity matrix, but diagonal can be any values shile rest is 0s\n",
    "- triangular matrix: diagonal and above are non 0, below diagonal are 0s (or opposite). Easy to solve\n",
    "- sparse matrix: Matrix that is mostly 0s. "
   ]
  },
  {
   "cell_type": "markdown",
   "id": "52eb0011-dd6e-49fa-9343-1bed2d8be88a",
   "metadata": {},
   "source": [
    "**Systems of Equations and Inverse Matrices**\n",
    "- solving systems of equations is one of linear algebras basic use cases\n",
    "- systems of equations can be formulated as matrix operations\n",
    "- then we can use inverse to undo the transformations on the matrix and receive the values of the variables\n",
    "- example below:"
   ]
  },
  {
   "cell_type": "code",
   "execution_count": 8,
   "id": "8f238ddf-8fda-4317-9429-e601d9679e2c",
   "metadata": {},
   "outputs": [
    {
     "name": "stdout",
     "output_type": "stream",
     "text": [
      "[[4 2 4]\n",
      " [5 3 7]\n",
      " [9 3 6]]\n",
      "[44 56 72]\n",
      "[[-5.00000000e-01  9.86864911e-17  3.33333333e-01]\n",
      " [ 5.50000000e+00 -2.00000000e+00 -1.33333333e+00]\n",
      " [-2.00000000e+00  1.00000000e+00  3.33333333e-01]]\n",
      "[ 2. 34. -8.]\n"
     ]
    }
   ],
   "source": [
    "# 4x + 2y + 4z = 44\n",
    "# 5x + 3y + 7z = 56\n",
    "# 9x + 3y + 6z = 72\n",
    "\n",
    "A = np.array([[4, 2, 4],[5, 3, 7],[9, 3, 6]])\n",
    "\n",
    "B = np.array([44, 56, 72])\n",
    "\n",
    "X = np.linalg.inv(A).dot(B)\n",
    "\n",
    "print(A)\n",
    "print(B)\n",
    "print(np.linalg.inv(A))\n",
    "print(X)\n",
    "\n",
    "# solution: x = 2, y = 34, z = -8"
   ]
  },
  {
   "cell_type": "markdown",
   "id": "330bc0d8-8412-4783-8a71-2919e7b10224",
   "metadata": {},
   "source": [
    "**Linear Programming**\n",
    "- solves system of inequalities\n",
    "- integer programming: only integers\n",
    "- mixed integer programming: floats and integers\n",
    "- example:\n",
    "- 2 product lines, ipac and ipac ultra\n",
    "- ipac makes 200 profit, ipac ultra makes 300 profit\n",
    "- assembly line can work 20 hours and Ipac takes 1 hour and ipac ultra takes 3 hours\n",
    "- 45 kits can be provided in a day and ipac needs 6 kits while ipac ultra requires 2 kits\n",
    "- assuming all supply will be sold, how much of each should be produced to maximize profit?\n",
    "- Solution:"
   ]
  },
  {
   "cell_type": "code",
   "execution_count": 8,
   "id": "b2906472-3805-4ffa-b218-22b2f7196951",
   "metadata": {
    "scrolled": true
   },
   "outputs": [
    {
     "name": "stdout",
     "output_type": "stream",
     "text": [
      "Welcome to the CBC MILP Solver \n",
      "Version: 2.10.3 \n",
      "Build Date: Dec 15 2019 \n",
      "\n",
      "command line - /Users/marklakshman/Coding_Projects/Math for DS testing/venv/lib/python3.9/site-packages/pulp/solverdir/cbc/osx/64/cbc /var/folders/s7/ckxkrdg10w99sm10_yhbwr7c0000gn/T/cc9500a7e25e40ed98045fe20bcbd359-pulp.mps max timeMode elapsed branch printingOptions all solution /var/folders/s7/ckxkrdg10w99sm10_yhbwr7c0000gn/T/cc9500a7e25e40ed98045fe20bcbd359-pulp.sol (default strategy 1)\n",
      "At line 2 NAME          MODEL\n",
      "At line 3 ROWS\n",
      "At line 7 COLUMNS\n",
      "At line 18 RHS\n",
      "At line 21 BOUNDS\n",
      "At line 24 ENDATA\n",
      "Problem MODEL has 2 rows, 2 columns and 4 elements\n",
      "Coin0008I MODEL read with 0 errors\n",
      "Option for timeMode changed from cpu to elapsed\n",
      "Continuous objective value is 2593.75 - 0.00 seconds\n",
      "Cgl0004I processed model has 2 rows, 2 columns (2 integer (0 of which binary)) and 4 elements\n",
      "Cutoff increment increased from 1e-05 to 99.9999\n",
      "Cbc0012I Integer solution of -2200 found by DiveCoefficient after 0 iterations and 0 nodes (0.01 seconds)\n",
      "Cbc0012I Integer solution of -2500 found by DiveCoefficient after 1 iterations and 0 nodes (0.01 seconds)\n",
      "Cbc0031I 1 added rows had average density of 2\n",
      "Cbc0013I At root node, 1 cuts changed objective from -2593.75 to -2500 in 2 passes\n",
      "Cbc0014I Cut generator 0 (Probing) - 1 row cuts average 2.0 elements, 2 column cuts (2 active)  in 0.000 seconds - new frequency is 1\n",
      "Cbc0014I Cut generator 1 (Gomory) - 2 row cuts average 2.0 elements, 0 column cuts (0 active)  in 0.000 seconds - new frequency is 1\n",
      "Cbc0014I Cut generator 2 (Knapsack) - 0 row cuts average 0.0 elements, 0 column cuts (0 active)  in 0.000 seconds - new frequency is -100\n",
      "Cbc0014I Cut generator 3 (Clique) - 0 row cuts average 0.0 elements, 0 column cuts (0 active)  in 0.000 seconds - new frequency is -100\n",
      "Cbc0014I Cut generator 4 (MixedIntegerRounding2) - 0 row cuts average 0.0 elements, 0 column cuts (0 active)  in 0.000 seconds - new frequency is -100\n",
      "Cbc0014I Cut generator 5 (FlowCover) - 0 row cuts average 0.0 elements, 0 column cuts (0 active)  in 0.000 seconds - new frequency is -100\n",
      "Cbc0001I Search completed - best objective -2500, took 1 iterations and 0 nodes (0.01 seconds)\n",
      "Cbc0035I Maximum depth 0, 0 variables fixed on reduced cost\n",
      "Cuts at root node changed objective from -2593.75 to -2500\n",
      "Probing was tried 2 times and created 3 cuts of which 0 were active after adding rounds of cuts (0.000 seconds)\n",
      "Gomory was tried 2 times and created 2 cuts of which 0 were active after adding rounds of cuts (0.000 seconds)\n",
      "Knapsack was tried 2 times and created 0 cuts of which 0 were active after adding rounds of cuts (0.000 seconds)\n",
      "Clique was tried 2 times and created 0 cuts of which 0 were active after adding rounds of cuts (0.000 seconds)\n",
      "MixedIntegerRounding2 was tried 2 times and created 0 cuts of which 0 were active after adding rounds of cuts (0.000 seconds)\n",
      "FlowCover was tried 2 times and created 0 cuts of which 0 were active after adding rounds of cuts (0.000 seconds)\n",
      "TwoMirCuts was tried 1 times and created 0 cuts of which 0 were active after adding rounds of cuts (0.000 seconds)\n",
      "ZeroHalf was tried 1 times and created 0 cuts of which 0 were active after adding rounds of cuts (0.000 seconds)\n",
      "\n",
      "Result - Optimal solution found\n",
      "\n",
      "Objective value:                2500.00000000\n",
      "Enumerated nodes:               0\n",
      "Total iterations:               1\n",
      "Time (CPU seconds):             0.00\n",
      "Time (Wallclock seconds):       0.01\n",
      "\n",
      "Option for printingOptions changed from normal to all\n",
      "Total time (CPU seconds):       0.00   (Wallclock seconds):       0.01\n",
      "\n",
      "x =  5.0  y =  5.0\n"
     ]
    }
   ],
   "source": [
    "from pulp import *\n",
    "\n",
    "# lpvariable declares variables to solve for\n",
    "x = LpVariable(\"x\", 0, cat = LpInteger) # x >= 0 & x has to be an integer, cant be a float\n",
    "y = LpVariable(\"y\", 0, cat = LpInteger) # y >= 0 & y has to be integer no float\n",
    "\n",
    "# LpProblem defines the problem\n",
    "prob = LpProblem(\"factory_problem\", LpMaximize)\n",
    "\n",
    "# define constraints (i think these are added to the prob)\n",
    "prob += x + 3*y <= 20\n",
    "prob += 6*x + 2*y <= 45\n",
    "\n",
    "# defines objective function to maximize\n",
    "prob += 200*x + 300*y\n",
    "\n",
    "# solve the problem\n",
    "status = prob.solve()\n",
    "print(\"x = \", value(x), \" y = \", value(y))"
   ]
  },
  {
   "cell_type": "markdown",
   "id": "8e105310-3667-4860-99e6-fe317fe4ba9f",
   "metadata": {},
   "source": [
    "**Matrix decomposition**\n",
    "- breaking up matrix into basic components\n",
    "- common method for matrix decomposition: Eigendecomposition\n",
    "- is used to break up matrix into components that are easier to work with in different machine learning tasks\n",
    "- only works on square matrices\n",
    "- 2 components: Eigenvalues lambda and Eigenvector v\n",
    "- for Matrix A: A*v = lambda*v\n",
    "- for each dimension of the matrix (ie for ech column) there is one eigenvalue and one eigenvector"
   ]
  },
  {
   "cell_type": "code",
   "execution_count": 12,
   "id": "d2590df4-c107-4cce-8244-428ba9dfe837",
   "metadata": {},
   "outputs": [
    {
     "name": "stdout",
     "output_type": "stream",
     "text": [
      "[ 1.61168440e+01 -1.11684397e+00 -8.58274334e-16]\n",
      "[[-0.23197069 -0.78583024  0.40824829]\n",
      " [-0.52532209 -0.08675134 -0.81649658]\n",
      " [-0.8186735   0.61232756  0.40824829]]\n"
     ]
    }
   ],
   "source": [
    "# calculating eigenvectors and eigenvalues\n",
    "\n",
    "A = np.array([[1,2,3],[4,5,6], [7,8,9]])\n",
    "\n",
    "eigenvals, eigenvecs = np.linalg.eig(A)\n",
    "\n",
    "print(eigenvals)\n",
    "print(eigenvecs)"
   ]
  },
  {
   "cell_type": "markdown",
   "id": "25ab7d34-be1c-4d33-9e70-366a18b3c452",
   "metadata": {},
   "source": [
    "**Rebuilding Matrix after decomposition**\n",
    "- A = Eigenvectors * Eigenvalues in Matrix form * inv(Eigenvectors)\n",
    "- A = Q * L (Eigenvectors in matrix form (diagonal matrix)) * R (inv(Q))"
   ]
  },
  {
   "cell_type": "code",
   "execution_count": 14,
   "id": "4ce53232-3679-4c57-9233-5d767aa027c6",
   "metadata": {},
   "outputs": [
    {
     "name": "stdout",
     "output_type": "stream",
     "text": [
      "[[1. 2. 3.]\n",
      " [4. 5. 6.]\n",
      " [7. 8. 9.]]\n"
     ]
    }
   ],
   "source": [
    "# reconstructing matrix after decomposition above\n",
    "Q = eigenvecs\n",
    "R = np.linalg.inv(Q)\n",
    "L = np.diag(eigenvals)\n",
    "\n",
    "B = Q @ L @ R\n",
    "print(B)"
   ]
  },
  {
   "cell_type": "markdown",
   "id": "51ec9073-f339-48b3-9d19-d27e6ef72af9",
   "metadata": {},
   "source": [
    "## Exercises"
   ]
  },
  {
   "cell_type": "markdown",
   "id": "d4ca38e2-13da-495b-a06f-a4e4d59782fb",
   "metadata": {},
   "source": [
    "**1)**\n",
    "- v [1,2]\n",
    "- transformation: i [2,0], j[0, 1.5]\n",
    "- where does v land?"
   ]
  },
  {
   "cell_type": "code",
   "execution_count": 17,
   "id": "30a584b0-23a3-47e6-9c9d-4d378be3318f",
   "metadata": {},
   "outputs": [
    {
     "name": "stdout",
     "output_type": "stream",
     "text": [
      "[2. 3.]\n"
     ]
    }
   ],
   "source": [
    "v = np.array([1,2])\n",
    "i = np.array([2,0])\n",
    "j = np.array([0, 1.5])\n",
    "\n",
    "basis = np.array([i,j])\n",
    "print(basis.dot(v))"
   ]
  },
  {
   "cell_type": "markdown",
   "id": "e27e3c41-e9be-4d2f-b0d4-83af69231585",
   "metadata": {},
   "source": [
    "**2)**"
   ]
  },
  {
   "cell_type": "code",
   "execution_count": 18,
   "id": "4610ab0d-f92a-47f5-849a-36c83f886428",
   "metadata": {},
   "outputs": [
    {
     "name": "stdout",
     "output_type": "stream",
     "text": [
      "[ 0 -3]\n"
     ]
    }
   ],
   "source": [
    "v = np.array([1,2])\n",
    "i = np.array([-2,1])\n",
    "j = np.array([1,-2])\n",
    "\n",
    "basis = np.array([i,j])\n",
    "print(basis.dot(v))"
   ]
  },
  {
   "cell_type": "markdown",
   "id": "b40b6bad-e9ff-4829-99d2-ea7400e8103b",
   "metadata": {},
   "source": [
    "**3)**\n"
   ]
  },
  {
   "cell_type": "code",
   "execution_count": 19,
   "id": "1331adb2-db01-4c05-918e-bff9f379a292",
   "metadata": {},
   "outputs": [
    {
     "name": "stdout",
     "output_type": "stream",
     "text": [
      "2.0\n"
     ]
    }
   ],
   "source": [
    "i = np.array([1,0])\n",
    "j = np.array([2,2])\n",
    "basis = np.array([i,j])\n",
    "\n",
    "print(np.linalg.det(basis))"
   ]
  },
  {
   "cell_type": "markdown",
   "id": "174bac93-f3b5-4abd-9ff7-73f3c2fa52e6",
   "metadata": {},
   "source": [
    "**5)**"
   ]
  },
  {
   "cell_type": "code",
   "execution_count": 21,
   "id": "8beb1288-d354-429a-a1f8-7c539119ed18",
   "metadata": {},
   "outputs": [
    {
     "name": "stdout",
     "output_type": "stream",
     "text": [
      "[19.8 -5.4 -6. ]\n"
     ]
    }
   ],
   "source": [
    "# 3x + 1y + 0z = 54\n",
    "# 2x + 4y + 1z = 12\n",
    "# 3x + 1y+ 8z = 6\n",
    "\n",
    "A = np.array([[3,1,0],[2,4,1],[3,1,8]])\n",
    "x = np.array([54,12,6])\n",
    "\n",
    "# spelled out: A*(x,y,z) = x\n",
    "# to eliminate A: multiply with A**(-1) and only (x,y,z) will remain on left side\n",
    "# we have to do same operation on right side so A**(-1) * x\n",
    "\n",
    "print(np.linalg.inv(A).dot(x))"
   ]
  },
  {
   "cell_type": "markdown",
   "id": "66c2f97d-e730-4156-a5fc-5d7013003a8d",
   "metadata": {},
   "source": [
    "**6)**"
   ]
  },
  {
   "cell_type": "code",
   "execution_count": 22,
   "id": "00fe0f40-d8e0-4b82-91ac-bb3d4598a790",
   "metadata": {},
   "outputs": [
    {
     "name": "stdout",
     "output_type": "stream",
     "text": [
      "0.0\n"
     ]
    }
   ],
   "source": [
    "# following matrix linearly dependent? (is determinant = 0)?\n",
    "\n",
    "A = np.array([[2,6],[1,3]])\n",
    "\n",
    "print(np.linalg.det(A))"
   ]
  },
  {
   "cell_type": "code",
   "execution_count": null,
   "id": "c8999275-3fe1-4780-a99a-32ba03d2879c",
   "metadata": {},
   "outputs": [],
   "source": []
  }
 ],
 "metadata": {
  "kernelspec": {
   "display_name": "venv",
   "language": "python",
   "name": "venv"
  },
  "language_info": {
   "codemirror_mode": {
    "name": "ipython",
    "version": 3
   },
   "file_extension": ".py",
   "mimetype": "text/x-python",
   "name": "python",
   "nbconvert_exporter": "python",
   "pygments_lexer": "ipython3",
   "version": "3.9.6"
  }
 },
 "nbformat": 4,
 "nbformat_minor": 5
}
