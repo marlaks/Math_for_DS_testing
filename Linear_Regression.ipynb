{
 "cells": [
  {
   "cell_type": "code",
   "execution_count": 1,
   "id": "2f938262-3f91-4fbb-8321-4a413e1128b3",
   "metadata": {},
   "outputs": [],
   "source": [
    "import numpy as np\n",
    "import pandas as pd\n",
    "import matplotlib.pyplot as plt\n",
    "from mpl_toolkits import mplot3d\n",
    "from sklearn.linear_model import LinearRegression\n",
    "import random\n",
    "from scipy.stats import t\n",
    "from math import sqrt\n",
    "from sklearn.model_selection import train_test_split\n",
    "from sklearn.model_selection import KFold, cross_val_score, ShuffleSplit"
   ]
  },
  {
   "cell_type": "markdown",
   "id": "bf4e3650-24f6-438b-9c27-2e31c423b396",
   "metadata": {},
   "source": [
    "## Linear Regression"
   ]
  },
  {
   "cell_type": "markdown",
   "id": "1e102e72-9bf1-4335-99af-bee40337bde4",
   "metadata": {},
   "source": [
    "- linear regression fits a straight line through observed data, showing it is linear, and predicting values for new and unobserved data\n",
    "- machine learning practicioners often use train-test-splits to validate data\n",
    "- statisticians like to use prediction intervals and correlations\n",
    "- linear regression should not be used to make predictions outside the range of the observed data"
   ]
  },
  {
   "cell_type": "code",
   "execution_count": 21,
   "id": "2985259c-6136-4512-8d60-103d90dc77b0",
   "metadata": {},
   "outputs": [
    {
     "name": "stdout",
     "output_type": "stream",
     "text": [
      "[1.93939394]\n",
      "4.73333333333334\n"
     ]
    },
    {
     "data": {
      "image/png": "[encoded data removed]",
      "text/plain": [
       "<Figure size 640x480 with 1 Axes>"
      ]
     },
     "metadata": {},
     "output_type": "display_data"
    }
   ],
   "source": [
    "# create dataset of 10 dogs and n pet visits\n",
    "X = np.array([1,2,3,4,5,6,7,8,9,10]).reshape(-1, 1)\n",
    "Y = np.array([5,10,10,15,14,15,19,18,25,23])\n",
    "\n",
    "fit = LinearRegression().fit(X,Y)\n",
    "\n",
    "m = fit.coef_\n",
    "b = fit.intercept_\n",
    "print(m)\n",
    "print(b)\n",
    "\n",
    "plt.plot(X,Y,\"o\")\n",
    "plt.plot(X, m*X + b)\n",
    "plt.show()"
   ]
  },
  {
   "cell_type": "markdown",
   "id": "8ddb822f-67e2-4390-bbb6-7fee1e7978aa",
   "metadata": {},
   "source": [
    "**Residuals and Squared Errors**\n",
    "- 2 questions that are fundamental to model training:\n",
    "- what defines the \"best fit\"?\n",
    "- > minimize sum of squared residuals (or errors)\n",
    "  > residual: difference between predicted y value and actual y value\n",
    "- what gets the \"best fit\"?\n",
    "- > how do we find the best m and b value that create the line with the least sum of squares?"
   ]
  },
  {
   "cell_type": "markdown",
   "id": "8b5f73dc-12b3-446a-84fe-05c5095e2ff7",
   "metadata": {},
   "source": [
    "**Machine Learning Training basic concept**\n",
    "- we provide data and a loss function (or objective function)\n",
    "- having a loss function that calculates the error of a model\n",
    "- finding the parameters of the loss function that gives the lowest loss"
   ]
  },
  {
   "cell_type": "markdown",
   "id": "e7494548-8f75-49e1-8bd4-751f71ca585a",
   "metadata": {},
   "source": [
    "**Finding the best fit line**\n",
    "- algorithms: closed form, matrix inversion, matrix decomposition, gradient descent, stochastic gradient descent "
   ]
  },
  {
   "cell_type": "markdown",
   "id": "b70098eb-584f-4493-a331-5beb4e9557da",
   "metadata": {},
   "source": [
    "**Closed Form Equation**\n",
    "- if there is only 1 input variable and few datapoints, we can use closed form equation\n",
    "- this fits a linear regression by exact calculation\n",
    "- m = (n*sum(xy) - sum(x) * sum(y)) / (n*sum(x**2) - sum(x)**2)\n",
    "- b = sum(y)/n - m * sum(x)/n"
   ]
  },
  {
   "cell_type": "code",
   "execution_count": 13,
   "id": "971467ed-8d7d-40bc-b055-755f5bdf29eb",
   "metadata": {},
   "outputs": [
    {
     "name": "stdout",
     "output_type": "stream",
     "text": [
      "1.9393939393939394 4.7333333333333325\n"
     ]
    }
   ],
   "source": [
    "x = [1,2,3,4,5,6,7,8,9,10]\n",
    "y = [5,10,10,15,14,15,19,18,25,23]\n",
    "n = len(x)\n",
    "\n",
    "m = (n*sum(x[p-1]*y[p-1] for p in x) - sum(x[p-1] for p in x) *\n",
    "    sum(y[p-1] for p in x)) / (n*sum(x[p-1]**2 for p in x) -\n",
    "    sum(x[p-1] for p in x)**2)\n",
    "\n",
    "b = (sum(y[p-1] for p in x) / n) - m * sum(x[p-1] for p in x) / n\n",
    "\n",
    "print(m, b)"
   ]
  },
  {
   "cell_type": "markdown",
   "id": "a01d84a3-007e-4431-979c-b91d0ace9fc7",
   "metadata": {},
   "source": [
    "**Inverse Matrix Techniques**\n",
    "- b = (Xt * X)**(-1) * (Xt * y)\n",
    "- b = vector of coefficients\n",
    "- X = matrix of input variable values\n",
    "- y = vector of output variable values\n",
    "- finds vector of coefficients given matrix of input variables and vector of output variables\n",
    "- not so good when amount of data and dimensions are high"
   ]
  },
  {
   "cell_type": "code",
   "execution_count": 15,
   "id": "5a032cfd-62a9-416d-92df-db33f559be2e",
   "metadata": {},
   "outputs": [
    {
     "name": "stdout",
     "output_type": "stream",
     "text": [
      "[1.93939394 4.73333333]\n",
      "[ 6.67272727  8.61212121 10.55151515 12.49090909 14.43030303 16.36969697\n",
      " 18.30909091 20.24848485 22.18787879 24.12727273]\n"
     ]
    }
   ],
   "source": [
    "# input and output data\n",
    "# X: have to add column of ones so get the coefficient for the intercept\n",
    "X = np.array([[1,2,3,4,5,6,7,8,9,10], [1,1,1,1,1,1,1,1,1,1]]).T\n",
    "Y = np.array([5,10,10,15,14,15,19,18,25,23])\n",
    "\n",
    "# inverse matrix technique\n",
    "b = np.linalg.inv((X.T @ X)) @ (X.T @ Y)\n",
    "print(b)\n",
    "\n",
    "# use coefficients to predict outcomes based on input data\n",
    "y_pred = X @ b\n",
    "print(y_pred)"
   ]
  },
  {
   "cell_type": "markdown",
   "id": "0905c828-0f57-4355-b7bb-2899b33070ed",
   "metadata": {},
   "source": [
    "**Matrix Decomposition (QR decomposition)**\n",
    "- better than inverse matrix if alot of data\n",
    "- first decompose matrix: X = Q * R\n",
    "- then calculate coefficients: b = R**(-1) * Qt * y\n",
    "- QR decomposition is used for linear regression in many scientific libraries, because it scales well"
   ]
  },
  {
   "cell_type": "code",
   "execution_count": 19,
   "id": "0f45250f-f3ec-4010-8ed2-40f042f9fbbe",
   "metadata": {},
   "outputs": [
    {
     "name": "stdout",
     "output_type": "stream",
     "text": [
      "[[-5.09647191e-02 -5.85540044e-01]\n",
      " [-1.01929438e-01 -4.87950036e-01]\n",
      " [-1.52894157e-01 -3.90360029e-01]\n",
      " [-2.03858877e-01 -2.92770022e-01]\n",
      " [-2.54823596e-01 -1.95180015e-01]\n",
      " [-3.05788315e-01 -9.75900073e-02]\n",
      " [-3.56753034e-01 -1.18221328e-17]\n",
      " [-4.07717753e-01  9.75900073e-02]\n",
      " [-4.58682472e-01  1.95180015e-01]\n",
      " [-5.09647191e-01  2.92770022e-01]]\n",
      "[[-19.62141687  -2.80305955]\n",
      " [  0.          -1.46385011]]\n",
      "[1.93939394 4.73333333]\n",
      "[ 6.67272727  8.61212121 10.55151515 12.49090909 14.43030303 16.36969697\n",
      " 18.30909091 20.24848485 22.18787879 24.12727273]\n"
     ]
    }
   ],
   "source": [
    "# input and output data\n",
    "# X: have to add column of ones so get the coefficient for the intercept\n",
    "X = np.array([[1,2,3,4,5,6,7,8,9,10], [1,1,1,1,1,1,1,1,1,1]]).T\n",
    "Y = np.array([5,10,10,15,14,15,19,18,25,23])\n",
    "\n",
    "# decompose using QR decomposition\n",
    "Q, R = np.linalg.qr(X)\n",
    "print(Q)\n",
    "print(R)\n",
    "\n",
    "# calculate coefficients\n",
    "b = np.linalg.inv(R) @ (Q.T @ Y)\n",
    "print(b)\n",
    "\n",
    "# predict new y based on X input values and b coefficients\n",
    "print(X @ b)"
   ]
  },
  {
   "cell_type": "markdown",
   "id": "5b090f6b-2e08-4dae-ae23-4ba9f1ca2143",
   "metadata": {},
   "source": [
    "**Gradient Descent**\n",
    "- imagine your on a mountain landscape\n",
    "- the landscape are all possible sum of square losses\n",
    "- we cannot see the entire landscape, only whats right around us\n",
    "- and we want to get to the lowest point, where the sum of square loss is the lowest\n",
    "- so we iteratively take steps into the direction where the downward slope is big, hoping to find the lowest point\n",
    "- partial derivative lets us see the slope for every parameter (ie m and b)\n",
    "- we step in directions for m and b where the slope goes downward\n",
    "- as a step size we take a fraction of the slope\n",
    "- this fraction is the learning rate\n",
    "- low learning rate: algorithms takes long time but is more precise\n",
    "- high learning rate: algorithm is faster but is less precise"
   ]
  },
  {
   "cell_type": "markdown",
   "id": "d65e0069-fccc-4dbf-9c50-6022c980b1d5",
   "metadata": {},
   "source": [
    "**Gradient Descent example**\n",
    "- using gradient descent to find minimum of parabola\n",
    "- start with a random x value\n",
    "- get the slope at x using derivative\n",
    "- substract a fraction of the slope from x\n",
    "- x will keep decreasing to the bottom of the curve\n",
    "- if it passes the zero point, x will rise again, but so will slope that is the substracted again\n",
    "- hypothetically, if x arrives exactly at zero point, slope is zero so nothing is substracted from x. x stays the same for remaining iterations\n",
    "- also, when x gets closer to zero, the slope gets smaller, so the substracted learning rate is smaller, making x reduce slower"
   ]
  },
  {
   "cell_type": "code",
   "execution_count": 26,
   "id": "5e0e55bb-deb5-45f9-9966-95b8ee169a93",
   "metadata": {},
   "outputs": [
    {
     "name": "stdout",
     "output_type": "stream",
     "text": [
      "2.2  -  4.64\n",
      "2.3600000000000003  -  4.409599999999999\n",
      "2.4880000000000004  -  4.262143999999999\n",
      "2.5904000000000003  -  4.16777216\n",
      "2.67232  -  4.1073741824\n",
      "2.737856  -  4.068719476736\n",
      "2.7902848  -  4.04398046511104\n",
      "2.83222784  -  4.028147497671066\n",
      "2.8657822719999997  -  4.018014398509482\n",
      "2.8926258176  -  4.011529215046068\n",
      "2.91410065408  -  4.007378697629484\n",
      "2.931280523264  -  4.00472236648287\n",
      "2.9450244186112  -  4.003022314549036\n",
      "2.95601953488896  -  4.001934281311383\n",
      "2.964815627911168  -  4.001237940039285\n",
      "2.9718525023289346  -  4.000792281625142\n",
      "2.9774820018631476  -  4.000507060240091\n",
      "2.981985601490518  -  4.000324518553659\n",
      "2.9855884811924147  -  4.000207691874341\n",
      "2.9884707849539316  -  4.000132922799579\n"
     ]
    }
   ],
   "source": [
    "# function for which we find x value that produces the lowest point using gradient descent\n",
    "def f(x):\n",
    "    return (x-3)**2 + 4\n",
    "\n",
    "# partial derivative for x\n",
    "def dx_f(x):\n",
    "    return 2*(x-3)\n",
    "\n",
    "# learning rate\n",
    "L = 0.1\n",
    "\n",
    "# number of iterations\n",
    "n = 20\n",
    "\n",
    "# start at a random x value\n",
    "x = random.randint(-15,15)\n",
    "\n",
    "# gradient descent\n",
    "for i in range(n):\n",
    "\n",
    "    # calculate derivative value at x (slope)\n",
    "    dx = dx_f(x)\n",
    "\n",
    "    # update x by substracting the learning rate * slope\n",
    "    x -= L * dx\n",
    "    print(x, \" - \", f(x))"
   ]
  },
  {
   "cell_type": "markdown",
   "id": "4eb71a75-db15-4a8b-b788-d46d95ea7b9c",
   "metadata": {},
   "source": [
    "**Gradient Descent and Linear Regression**\n",
    "- in linear regression we already know the x and y values, because they are provided as training data\n",
    "- we need to find m and b to get the best fit line through the x and y values\n",
    "- slopes for m and b: Partial derivatives for each of these\n",
    "- we are minimizing the sum of squares\n",
    "- so we need to take the derivatives of sum of square with respect to m and b\n",
    "- sum of square: sum(((mx + b) - y)**2)\n",
    "- dm = sum(2x * ((mx + b) - y))\n",
    "- db = sum(2 * ((mx + b) - y))"
   ]
  },
  {
   "cell_type": "code",
   "execution_count": 11,
   "id": "06ef2081-158d-4366-866b-217845d46d41",
   "metadata": {},
   "outputs": [
    {
     "name": "stdout",
     "output_type": "stream",
     "text": [
      "m =  1.9393939393939548  & b =  4.733333333333227\n"
     ]
    }
   ],
   "source": [
    "x = [1,2,3,4,5,6,7,8,9,10]\n",
    "y = [5,10,10,15,14,15,19,18,25,23]\n",
    "\n",
    "# set initial values for m and b\n",
    "m = 0.0\n",
    "b = 0.0\n",
    "\n",
    "# Learning rate\n",
    "L = 0.001\n",
    "\n",
    "# number of iterations\n",
    "n = 100000\n",
    "\n",
    "# prepare lists for 3dplot\n",
    "m_list = []\n",
    "b_list = []\n",
    "e_list = [] # errors\n",
    "\n",
    "# Perform gradient descent\n",
    "for i in range(n):\n",
    "\n",
    "    # calc squared error for plotting\n",
    "    e = sum((((m * x[p-1] + b) - y[p-1])**2 for p in x))\n",
    "    \n",
    "    # slope with respect to m\n",
    "    D_m = sum(2 * x[p-1] * ((m * x[p-1] + b) - y[p-1]) for p in x)\n",
    "\n",
    "    # slope with respect to b\n",
    "    D_b = sum(2 * ((m * x[p-1] + b) - y[p-1]) for p in x)\n",
    "\n",
    "    # update m and b\n",
    "    m -= L * D_m\n",
    "    b -= L * D_b\n",
    "\n",
    "    # add data to lists for plotting\n",
    "    m_list.append(m)\n",
    "    b_list.append(b)\n",
    "    e_list.append(e)\n",
    "\n",
    "print(\"m = \", m, \" & b = \", b)"
   ]
  },
  {
   "cell_type": "markdown",
   "id": "71d69106-743e-49e3-bbee-c84c60a75568",
   "metadata": {},
   "source": [
    "**Overfitting and Variance**\n",
    "- if we fit the model too well to the training data, it will be less good at predicting for new data (overfitting)\n",
    "- overfit model will have high variance in predicting for new data\n",
    "- thats why we use bias in a model: prioritizing a method (keeping a straight line) over fitting exactly to the training data\n",
    "- adding bias to a model counteracts overfitting with underfitting\n",
    "- Ridge Regression: Adds further bias to regression through adding a penalty\n",
    "- Lasso regression removes noisy variables"
   ]
  },
  {
   "cell_type": "markdown",
   "id": "24b05f10-6d5d-4cdc-b86d-eb026b7f6c10",
   "metadata": {},
   "source": [
    "**Stochastic gradient descent**\n",
    "- it is unlikely that one would do regular gradient descent (batch gradient descent) where one trains on all available data\n",
    "- better: stochastic gradient descent (mini batch gradient descent) where in each iteration you only train on a sample of the data\n",
    "- makes computation more efficient, as each iteration on ly trains non a sample of the data\n",
    "- reduces overfitting: Each iteration there will be a different loss landscape (based on the sample the iteration trains on) which means the algorithm will not settle in the global minimum"
   ]
  },
  {
   "cell_type": "code",
   "execution_count": 14,
   "id": "55eb5a4c-be8f-432a-97a5-b81eae89cf35",
   "metadata": {},
   "outputs": [
    {
     "name": "stdout",
     "output_type": "stream",
     "text": [
      "0 0.0285 0.004\n",
      "10000 2.3535760103759302 1.875233542862461\n",
      "20000 2.2064820626847936 2.8490987360865336\n",
      "30000 2.1187637896104516 3.492794671003066\n",
      "40000 2.0575517119959623 3.913604893634368\n",
      "50000 2.0131102495570685 4.196016370047888\n",
      "60000 1.9738021046896421 4.3834487393903965\n",
      "70000 1.9671248460073738 4.4997500720209285\n",
      "80000 1.9335007811216114 4.58632752429507\n",
      "90000 1.9627904251022696 4.65312862635246\n",
      "y = 1.9285259824870946x + 4.6858119643902025\n"
     ]
    }
   ],
   "source": [
    "# creating dataset\n",
    "data = {\"x\":[1,2,3,4,5,6,7,8,9,10],\n",
    "        \"y\":[5,10,10,15,14,15,19,18,25,23]}\n",
    "df = pd.DataFrame(data)\n",
    "X = df.iloc[:, 0].values\n",
    "Y = df.iloc[:, 1].values\n",
    "\n",
    "n = df.shape[0]  # rows\n",
    "\n",
    "# Building the model\n",
    "m = 0.0\n",
    "b = 0.0\n",
    "\n",
    "sample_size = 2  # sample size\n",
    "L = .0001  # The learning Rate\n",
    "epochs = 100000  # The number of iterations to perform gradient descent\n",
    "\n",
    "# Performing Stochastic Gradient Descent\n",
    "for i in range(epochs):\n",
    "    idx = np.random.choice(n, sample_size, replace=False)\n",
    "    x_sample = X[idx]\n",
    "    y_sample = Y[idx]\n",
    "\n",
    "    # The current predicted value of Y\n",
    "    Y_pred = m * x_sample + b\n",
    "\n",
    "    # d/dm derivative of loss function\n",
    "    D_m = (-2 / sample_size) * sum(x_sample * (y_sample - Y_pred))\n",
    "\n",
    "    # d/db derivative of loss function\n",
    "    D_b = (-2 / sample_size) * sum(y_sample - Y_pred)\n",
    "    m = m - L * D_m  # Update m\n",
    "    b = b - L * D_b  # Update b\n",
    "\n",
    "    # print progress\n",
    "    if i % 10000 == 0:\n",
    "        print(i, m, b)\n",
    "\n",
    "print(\"y = {0}x + {1}\".format(m, b))"
   ]
  },
  {
   "cell_type": "markdown",
   "id": "f1afee60-e52a-4177-b4bc-98407b67fa82",
   "metadata": {},
   "source": [
    "**Correlation Coefficient**\n",
    "- same as pearson correlation\n",
    "- between -1 and 1\n",
    "- useful to see if there is possible relationship between two variables\n",
    "- less correlation, less useful for linear regression\n",
    "- correlation matrix: shows correlation between every pair of variables"
   ]
  },
  {
   "cell_type": "code",
   "execution_count": 2,
   "id": "77203243-f03c-4d87-8958-437cd9b4d1e7",
   "metadata": {},
   "outputs": [
    {
     "name": "stdout",
     "output_type": "stream",
     "text": [
      "          x         y\n",
      "x  1.000000  0.957586\n",
      "y  0.957586  1.000000\n"
     ]
    }
   ],
   "source": [
    "# creating dataset\n",
    "data = {\"x\":[1,2,3,4,5,6,7,8,9,10],\n",
    "        \"y\":[5,10,10,15,14,15,19,18,25,23]}\n",
    "df = pd.DataFrame(data)\n",
    "\n",
    "# calculate and print correlations\n",
    "correlations = df.corr(method=\"pearson\")\n",
    "print(correlations)"
   ]
  },
  {
   "cell_type": "markdown",
   "id": "bd984d6c-6b5f-4a74-9870-9c62a6a92cbb",
   "metadata": {},
   "source": [
    "**Statistical significance**\n",
    "- consider: is correlation coincidental? or causal?\n",
    "- is it possible I see a linear relationship in my data due to random chance?\n",
    "- how can we be 95% sure the relationship is significant and not coincidental\n",
    "- in this case we are not estimating the mean, but we are estimating the population correlation coefficient based on a sample\n",
    "- population correlation coefficient: p\n",
    "- sample correlation coefficient: r\n",
    "- H0: p = 0 (no causal relationship)\n",
    "- H1: p != 0\n",
    "- In this example we use T-distribution because we have less than 31 data points\n",
    "- first we calculate critical values, within which 95% of confidence lie\n",
    "- then we calculate r\n",
    "- then we calculate the test value\n",
    "- if test value is outside of 95% range, we reject H0\n",
    "- calculate p value for more proof"
   ]
  },
  {
   "cell_type": "code",
   "execution_count": 6,
   "id": "9536d54e-6226-4d32-9746-56d8c51960f1",
   "metadata": {},
   "outputs": [
    {
     "name": "stdout",
     "output_type": "stream",
     "text": [
      "n =  10\n",
      "lower cv =  -2.262157162740992 upper_cv =  2.262157162740991\n",
      "r =  0.9575860952087218\n",
      "test value =  9.399575927136752\n",
      "p value =  5.976327099421752e-06\n"
     ]
    }
   ],
   "source": [
    "# creating dataset\n",
    "data = {\"x\":[1,2,3,4,5,6,7,8,9,10],\n",
    "        \"y\":[5,10,10,15,14,15,19,18,25,23]}\n",
    "df = pd.DataFrame(data)\n",
    "\n",
    "# define sample size (we have 10 data points in the sample)\n",
    "n = len(df)\n",
    "print(\"n = \", n)\n",
    "\n",
    "# calculate critical values within which lie 95% of certainty\n",
    "lower_cv = t(n-1).ppf(0.025) # n-1 becasue adding 1 degree of freedom\n",
    "upper_cv = t(n-1).ppf(0.975)\n",
    "\n",
    "print(\"lower cv = \",lower_cv, \"upper_cv = \", upper_cv)\n",
    "\n",
    "# calculate sample correlation coefficient r\n",
    "r = df['x'].corr(df['y'])\n",
    "print(\"r = \", r)\n",
    "\n",
    "# calculate test value (no idea what this is)\n",
    "test_value = r / sqrt((1-r**2) / (n-2))\n",
    "print(\"test value = \", test_value)\n",
    "\n",
    "# calculate p value\n",
    "if test_value > 0:\n",
    "    p_value = 1.0 - t(n-1).cdf(test_value)\n",
    "else:\n",
    "    p_value = t(n-1).cdf(test_value)\n",
    "\n",
    "# Two-tailed, so multiply by 2\n",
    "p_value = p_value * 2\n",
    "print(\"p value = \", p_value)"
   ]
  },
  {
   "cell_type": "markdown",
   "id": "b667f2d4-6677-4d34-89cd-257635e02857",
   "metadata": {},
   "source": [
    "- test value is way outside of critical range so we can reject H0 (no relationship)\n",
    "- p value  is way lower than 0.05 so result is significant, no coincidence"
   ]
  },
  {
   "cell_type": "markdown",
   "id": "464174c0-c15d-42de-a06f-b5ddaa835add",
   "metadata": {},
   "source": [
    "**Coefficient of determination**\n",
    "- r**2\n",
    "- seen a lot in statistics and regressions\n",
    "- measures how much variation is one variable is explainable by the variation of the other variable\n",
    "- square of correlation coefficient\n",
    "- in code simply  take the square of r"
   ]
  },
  {
   "cell_type": "markdown",
   "id": "f2b233fe-25a5-4876-bcb0-73121b1e2511",
   "metadata": {},
   "source": [
    "**Standard Error of the estimate**\n",
    "- one way to measure error of linear regression is to use sum of squared error\n",
    "- however squared values are sometimes hard to interpret, so  we can use standard error"
   ]
  },
  {
   "cell_type": "code",
   "execution_count": 16,
   "id": "428b17ca-3aeb-4c28-a493-a0f490ccc5c3",
   "metadata": {},
   "outputs": [
    {
     "name": "stdout",
     "output_type": "stream",
     "text": [
      "1.87406793500129\n"
     ]
    }
   ],
   "source": [
    "# creating dataset\n",
    "data = {\"x\":[1,2,3,4,5,6,7,8,9,10],\n",
    "        \"y\":[5,10,10,15,14,15,19,18,25,23]}\n",
    "df = list(pd.DataFrame(data).itertuples())\n",
    "\n",
    "n = len(df)\n",
    "\n",
    "# Regression line\n",
    "m = 1.939\n",
    "b = 4.733\n",
    "\n",
    "# Calculate Standard Error of Estimate\n",
    "S_e = sqrt((sum((p.y - (m*p.x +b))**2 for p in df))/(n-2)) # n-2 for regression with two variables\n",
    "\n",
    "print(S_e)\n",
    "# 1.87406793500129"
   ]
  },
  {
   "cell_type": "markdown",
   "id": "386d35fe-796e-4f6b-80ca-1b9e50dbe4c8",
   "metadata": {},
   "source": [
    "**Prediction Intervals**\n",
    "- we can use confidence intervals even in predictions\n",
    "- ie \"we are 95% sure a dog of age x will go to the vet between a and b times\"\n",
    "- code in book, will not do it here"
   ]
  },
  {
   "cell_type": "markdown",
   "id": "d875cf63-799d-472f-8f11-9d46ccc168cf",
   "metadata": {},
   "source": [
    "**Train/Test splits**\n",
    "- correlation analysis and statistical significance testing do often not scale well to large, high dimensional data\n",
    "- thats why in machine learning, where data is usually big and high dimensional, these techniques are not used often\n",
    "- 1/3 of data is used for testing, 2/3 for training (other ratios possible)\n",
    "- Sometimes it makes sense to keep a third split, the validation split, for a last validation to see how your model performs"
   ]
  },
  {
   "cell_type": "code",
   "execution_count": 20,
   "id": "dbfe7208-a4c6-4ee5-af82-9ab38eb9a22e",
   "metadata": {},
   "outputs": [
    {
     "name": "stdout",
     "output_type": "stream",
     "text": [
      "r2 =  0.7882553362060325\n"
     ]
    }
   ],
   "source": [
    "# creating dataset\n",
    "data = {\"x\":[1,2,3,4,5,6,7,8,9,10],\n",
    "        \"y\":[5,10,10,15,14,15,19,18,25,23]}\n",
    "df = pd.DataFrame(data)\n",
    "\n",
    "# x and y values\n",
    "X = df.values[:,:-1] # all rows, all but last column\n",
    "Y = df.values[:,-1] # all rows, only last column\n",
    "\n",
    "# train test split\n",
    "X_train, X_test, Y_train, Y_test = train_test_split(X,Y,test_size=1/3) # will shuffle the data first\n",
    "\n",
    "# modeling\n",
    "model = LinearRegression() # selects linear regression as the model\n",
    "model.fit(X_train, Y_train) # finds m and b values. with gradient descent?\n",
    "result = model.score(X_test, Y_test) # gets the r**2. The closer to 1 the better\n",
    "\n",
    "print(\"r2 = \", result)"
   ]
  },
  {
   "cell_type": "markdown",
   "id": "e653f891-5f6a-4f80-827a-4c04f9bda487",
   "metadata": {},
   "source": [
    "**Cross validation**\n",
    "- uses each portion of the training set once for testing, while the others are used for training\n",
    "- in 1/3 ratio, each third is used once for testing while the others are used for training\n",
    "- but you can use any fold you want, as long as it produces big enough samples for training"
   ]
  },
  {
   "cell_type": "code",
   "execution_count": 44,
   "id": "ede50b75-8a72-4619-9d08-0f01eb442943",
   "metadata": {},
   "outputs": [
    {
     "name": "stdout",
     "output_type": "stream",
     "text": [
      "[0.82514286 0.64591573 0.2975653 ]\n",
      "MSE:  0.5895412971570677 STD:  0.21904044723571428\n"
     ]
    }
   ],
   "source": [
    "# creating dataset\n",
    "data = {\"x\":[1,2,3,4,5,6,7,8,9,10],\n",
    "        \"y\":[5,10,10,15,14,15,19,18,25,23]}\n",
    "df = pd.DataFrame(data)\n",
    "\n",
    "# x and y values\n",
    "X = df.values[:,:-1] # all rows, all but last column\n",
    "Y = df.values[:,-1] # all rows, only last column\n",
    "\n",
    "# configure the splits for cross validation\n",
    "kfold = KFold(n_splits = 3, random_state = 7, shuffle=True)\n",
    "\n",
    "# declare model\n",
    "model = LinearRegression()\n",
    "\n",
    "# calculate resulting R2 for each splits\n",
    "result = cross_val_score(model, X, Y, cv = kfold)\n",
    "\n",
    "print(result) # prints the R2 for each split\n",
    "print(\"MSE: \", result.mean(), \"STD: \", result.std())"
   ]
  },
  {
   "cell_type": "markdown",
   "id": "a24f0e71-a604-4038-ab31-cf07bd7b413a",
   "metadata": {},
   "source": [
    "**Random-fold validation**\n",
    "- repeatedly shuffle, split and train your data an unlimited amount of time\n",
    "- but computationally expensive"
   ]
  },
  {
   "cell_type": "code",
   "execution_count": 30,
   "id": "9fce83cc-cd54-4a59-ba15-61f308b464b0",
   "metadata": {},
   "outputs": [
    {
     "name": "stdout",
     "output_type": "stream",
     "text": [
      "[0.82514286 0.23552344 0.92653455 0.91620594 0.73260142 0.8698865\n",
      " 0.55254014 0.89593526 0.91570078 0.82086621]\n",
      "0.7690937099554678 0.20806669564643326\n"
     ]
    }
   ],
   "source": [
    "# creating dataset\n",
    "data = {\"x\":[1,2,3,4,5,6,7,8,9,10],\n",
    "        \"y\":[5,10,10,15,14,15,19,18,25,23]}\n",
    "df = pd.DataFrame(data)\n",
    "\n",
    "# x and y values\n",
    "X = df.values[:,:-1] # all rows, all but last column\n",
    "Y = df.values[:,-1] # all rows, only last column\n",
    "\n",
    "# configure splits for random-fold validation\n",
    "kfolds = ShuffleSplit(n_splits = 10, test_size = .33, random_state=7)\n",
    "\n",
    "model = LinearRegression()\n",
    "results = cross_val_score(model, X, Y, cv=kfolds)\n",
    "\n",
    "print(results)\n",
    "print(results.mean(), results.std())"
   ]
  },
  {
   "cell_type": "markdown",
   "id": "0f9e7789-659c-47ad-978a-e614b5295e80",
   "metadata": {},
   "source": [
    "**Multiple Linear regression**\n",
    "- statistical concepts like r2 stadnard error, confidence intervals still work, but get harder to explain\n"
   ]
  },
  {
   "cell_type": "markdown",
   "id": "90dfd014-d898-41d3-b649-0d77d1b2c69f",
   "metadata": {},
   "source": [
    "## Exercises"
   ]
  },
  {
   "cell_type": "markdown",
   "id": "4fb3d72f-6c03-48b1-acb2-76a330960fa7",
   "metadata": {},
   "source": [
    "**1)**\n",
    "- use regression to find m and b that minimizes loss (sum of squares)"
   ]
  },
  {
   "cell_type": "code",
   "execution_count": 3,
   "id": "e3b842b2-6ae7-40fc-88e1-491acb6b8447",
   "metadata": {},
   "outputs": [],
   "source": [
    "data = pd.read_csv(\"https://raw.githubusercontent.com/thomasnield/machine-learning-demo-data/master/regression/linear_normal.csv\")\n"
   ]
  },
  {
   "cell_type": "code",
   "execution_count": 4,
   "id": "2483c4e1-d838-4b85-a9be-89b5c5b02957",
   "metadata": {},
   "outputs": [
    {
     "data": {
      "text/html": [
       "<div>\n",
       "<style scoped>\n",
       "    .dataframe tbody tr th:only-of-type {\n",
       "        vertical-align: middle;\n",
       "    }\n",
       "\n",
       "    .dataframe tbody tr th {\n",
       "        vertical-align: top;\n",
       "    }\n",
       "\n",
       "    .dataframe thead th {\n",
       "        text-align: right;\n",
       "    }\n",
       "</style>\n",
       "<table border=\"1\" class=\"dataframe\">\n",
       "  <thead>\n",
       "    <tr style=\"text-align: right;\">\n",
       "      <th></th>\n",
       "      <th>x</th>\n",
       "      <th>y</th>\n",
       "    </tr>\n",
       "  </thead>\n",
       "  <tbody>\n",
       "    <tr>\n",
       "      <th>0</th>\n",
       "      <td>1</td>\n",
       "      <td>-13.115843</td>\n",
       "    </tr>\n",
       "    <tr>\n",
       "      <th>1</th>\n",
       "      <td>2</td>\n",
       "      <td>25.806547</td>\n",
       "    </tr>\n",
       "    <tr>\n",
       "      <th>2</th>\n",
       "      <td>3</td>\n",
       "      <td>-5.017285</td>\n",
       "    </tr>\n",
       "    <tr>\n",
       "      <th>3</th>\n",
       "      <td>4</td>\n",
       "      <td>20.256415</td>\n",
       "    </tr>\n",
       "    <tr>\n",
       "      <th>4</th>\n",
       "      <td>5</td>\n",
       "      <td>4.075003</td>\n",
       "    </tr>\n",
       "  </tbody>\n",
       "</table>\n",
       "</div>"
      ],
      "text/plain": [
       "   x          y\n",
       "0  1 -13.115843\n",
       "1  2  25.806547\n",
       "2  3  -5.017285\n",
       "3  4  20.256415\n",
       "4  5   4.075003"
      ]
     },
     "execution_count": 4,
     "metadata": {},
     "output_type": "execute_result"
    }
   ],
   "source": [
    "data.head()"
   ]
  },
  {
   "cell_type": "code",
   "execution_count": 8,
   "id": "02e5c325-9a91-4158-a088-612d9f31fcac",
   "metadata": {},
   "outputs": [
    {
     "name": "stdout",
     "output_type": "stream",
     "text": [
      "1.7591931481052476 4.69359654825405\n"
     ]
    }
   ],
   "source": [
    "# using closed form equation\n",
    "# input and output vectors\n",
    "x = data.x\n",
    "y = data.y\n",
    "n = len(data)\n",
    "\n",
    "m = (n*sum(x[p-1]*y[p-1] for p in x) - sum(x[p-1] for p in x) *\n",
    "    sum(y[p-1] for p in x)) / (n*sum(x[p-1]**2 for p in x) -\n",
    "    sum(x[p-1] for p in x)**2)\n",
    "\n",
    "b = (sum(y[p-1] for p in x) / n) - m * sum(x[p-1] for p in x) / n\n",
    "\n",
    "print(m, b)"
   ]
  },
  {
   "cell_type": "code",
   "execution_count": 19,
   "id": "311ca5ac-aac9-4f7b-9b54-3773e25686de",
   "metadata": {},
   "outputs": [
    {
     "name": "stdout",
     "output_type": "stream",
     "text": [
      "[1.75919315] [4.69359655]\n"
     ]
    },
    {
     "data": {
      "image/png": "[encoded data removed]",
      "text/plain": [
       "<Figure size 640x480 with 1 Axes>"
      ]
     },
     "metadata": {},
     "output_type": "display_data"
    }
   ],
   "source": [
    "# using scikit learn\n",
    "\n",
    "# x and y values\n",
    "X = data.values[:,:-1] # all rows, all but last column\n",
    "Y = data.values[:,-1] # all rows, only last column\n",
    "\n",
    "fit = LinearRegression().fit(X,Y)\n",
    "\n",
    "m = fit.coef_.flatten()\n",
    "b = fit.intercept_.flatten()\n",
    "print(m,b)\n",
    "\n",
    "plt.plot(X,Y,\"o\")\n",
    "plt.plot(X, m*X+b)\n",
    "plt.show()"
   ]
  },
  {
   "cell_type": "markdown",
   "id": "a91521b3-1646-46c4-a67e-676c4584a115",
   "metadata": {},
   "source": [
    "**2)**\n",
    "- calculate correlation coefficient"
   ]
  },
  {
   "cell_type": "code",
   "execution_count": 22,
   "id": "8981c55b-7a3e-43ed-ad3c-61d71282880b",
   "metadata": {},
   "outputs": [
    {
     "name": "stdout",
     "output_type": "stream",
     "text": [
      "0.9242100628677159\n"
     ]
    }
   ],
   "source": [
    "print(data.x.corr(data.y+))"
   ]
  },
  {
   "cell_type": "markdown",
   "id": "6d56cd12-9fbf-4d55-8e6b-572d63ea8796",
   "metadata": {},
   "source": [
    "**4)**\n",
    "- test regression using train test splits and crossvalidation etc"
   ]
  },
  {
   "cell_type": "code",
   "execution_count": 32,
   "id": "9a67133d-e082-44ff-96e7-06a62903ae89",
   "metadata": {},
   "outputs": [
    {
     "data": {
      "text/plain": [
       "[<matplotlib.lines.Line2D at 0x169aa16d0>]"
      ]
     },
     "execution_count": 32,
     "metadata": {},
     "output_type": "execute_result"
    },
    {
     "data": {
      "image/png": "[encoded data removed]",
      "text/plain": [
       "<Figure size 640x480 with 1 Axes>"
      ]
     },
     "metadata": {},
     "output_type": "display_data"
    }
   ],
   "source": [
    "plt.plot(data.x,data.y,\"o\")"
   ]
  },
  {
   "cell_type": "code",
   "execution_count": 28,
   "id": "2dd85feb-6a3a-4c9d-9c08-0c0bca92efb4",
   "metadata": {},
   "outputs": [
    {
     "data": {
      "text/html": [
       "<div>\n",
       "<style scoped>\n",
       "    .dataframe tbody tr th:only-of-type {\n",
       "        vertical-align: middle;\n",
       "    }\n",
       "\n",
       "    .dataframe tbody tr th {\n",
       "        vertical-align: top;\n",
       "    }\n",
       "\n",
       "    .dataframe thead th {\n",
       "        text-align: right;\n",
       "    }\n",
       "</style>\n",
       "<table border=\"1\" class=\"dataframe\">\n",
       "  <thead>\n",
       "    <tr style=\"text-align: right;\">\n",
       "      <th></th>\n",
       "      <th>x</th>\n",
       "      <th>y</th>\n",
       "    </tr>\n",
       "  </thead>\n",
       "  <tbody>\n",
       "    <tr>\n",
       "      <th>count</th>\n",
       "      <td>99.000000</td>\n",
       "      <td>99.000000</td>\n",
       "    </tr>\n",
       "    <tr>\n",
       "      <th>mean</th>\n",
       "      <td>50.000000</td>\n",
       "      <td>92.653254</td>\n",
       "    </tr>\n",
       "    <tr>\n",
       "      <th>std</th>\n",
       "      <td>28.722813</td>\n",
       "      <td>54.672610</td>\n",
       "    </tr>\n",
       "    <tr>\n",
       "      <th>min</th>\n",
       "      <td>1.000000</td>\n",
       "      <td>-13.115843</td>\n",
       "    </tr>\n",
       "    <tr>\n",
       "      <th>25%</th>\n",
       "      <td>25.500000</td>\n",
       "      <td>49.423630</td>\n",
       "    </tr>\n",
       "    <tr>\n",
       "      <th>50%</th>\n",
       "      <td>50.000000</td>\n",
       "      <td>97.829809</td>\n",
       "    </tr>\n",
       "    <tr>\n",
       "      <th>75%</th>\n",
       "      <td>74.500000</td>\n",
       "      <td>132.834761</td>\n",
       "    </tr>\n",
       "    <tr>\n",
       "      <th>max</th>\n",
       "      <td>99.000000</td>\n",
       "      <td>201.565724</td>\n",
       "    </tr>\n",
       "  </tbody>\n",
       "</table>\n",
       "</div>"
      ],
      "text/plain": [
       "               x           y\n",
       "count  99.000000   99.000000\n",
       "mean   50.000000   92.653254\n",
       "std    28.722813   54.672610\n",
       "min     1.000000  -13.115843\n",
       "25%    25.500000   49.423630\n",
       "50%    50.000000   97.829809\n",
       "75%    74.500000  132.834761\n",
       "max    99.000000  201.565724"
      ]
     },
     "execution_count": 28,
     "metadata": {},
     "output_type": "execute_result"
    }
   ],
   "source": [
    "data.describe()"
   ]
  },
  {
   "cell_type": "code",
   "execution_count": 33,
   "id": "a8e8ec93-2e72-4450-8699-ef25f73566b9",
   "metadata": {},
   "outputs": [
    {
     "data": {
      "text/plain": [
       "0.9242100628677159"
      ]
     },
     "execution_count": 33,
     "metadata": {},
     "output_type": "execute_result"
    }
   ],
   "source": [
    "data.x.corr(data.y)"
   ]
  },
  {
   "cell_type": "code",
   "execution_count": 34,
   "id": "d0280e69-80ca-42f7-bf0c-2f826ac7826c",
   "metadata": {},
   "outputs": [
    {
     "data": {
      "text/html": [
       "<div>\n",
       "<style scoped>\n",
       "    .dataframe tbody tr th:only-of-type {\n",
       "        vertical-align: middle;\n",
       "    }\n",
       "\n",
       "    .dataframe tbody tr th {\n",
       "        vertical-align: top;\n",
       "    }\n",
       "\n",
       "    .dataframe thead th {\n",
       "        text-align: right;\n",
       "    }\n",
       "</style>\n",
       "<table border=\"1\" class=\"dataframe\">\n",
       "  <thead>\n",
       "    <tr style=\"text-align: right;\">\n",
       "      <th></th>\n",
       "      <th>x</th>\n",
       "      <th>y</th>\n",
       "    </tr>\n",
       "  </thead>\n",
       "  <tbody>\n",
       "    <tr>\n",
       "      <th>0</th>\n",
       "      <td>1</td>\n",
       "      <td>-13.115843</td>\n",
       "    </tr>\n",
       "    <tr>\n",
       "      <th>1</th>\n",
       "      <td>2</td>\n",
       "      <td>25.806547</td>\n",
       "    </tr>\n",
       "    <tr>\n",
       "      <th>2</th>\n",
       "      <td>3</td>\n",
       "      <td>-5.017285</td>\n",
       "    </tr>\n",
       "    <tr>\n",
       "      <th>3</th>\n",
       "      <td>4</td>\n",
       "      <td>20.256415</td>\n",
       "    </tr>\n",
       "    <tr>\n",
       "      <th>4</th>\n",
       "      <td>5</td>\n",
       "      <td>4.075003</td>\n",
       "    </tr>\n",
       "  </tbody>\n",
       "</table>\n",
       "</div>"
      ],
      "text/plain": [
       "   x          y\n",
       "0  1 -13.115843\n",
       "1  2  25.806547\n",
       "2  3  -5.017285\n",
       "3  4  20.256415\n",
       "4  5   4.075003"
      ]
     },
     "execution_count": 34,
     "metadata": {},
     "output_type": "execute_result"
    }
   ],
   "source": [
    "data.head()"
   ]
  },
  {
   "cell_type": "code",
   "execution_count": 42,
   "id": "2ce5cdeb-7ebb-4b2f-b975-57c08dc84ac0",
   "metadata": {},
   "outputs": [
    {
     "name": "stdout",
     "output_type": "stream",
     "text": [
      "R2:  0.8686822680541865\n",
      "m:  [1.76322396] b:  [3.71916452]\n"
     ]
    },
    {
     "data": {
      "image/png": "[encoded data removed]",
      "text/plain": [
       "<Figure size 640x480 with 1 Axes>"
      ]
     },
     "metadata": {},
     "output_type": "display_data"
    }
   ],
   "source": [
    "# regression using .33 split\n",
    "\n",
    "# devide X and Y values to make code look nicer\n",
    "X = data.values[:,:-1]\n",
    "Y = data.values[:,-1]\n",
    "\n",
    "# create splits\n",
    "x_train, x_test, y_train, y_test = train_test_split(X,Y,test_size=1/3)\n",
    "\n",
    "# choose model\n",
    "model = LinearRegression()\n",
    "\n",
    "# fit model\n",
    "fit = model.fit(x_train,y_train)\n",
    "\n",
    "# score model\n",
    "r2 = model.score(x_test,y_test)\n",
    "print(\"R2: \", r2)\n",
    "\n",
    "# get fit parameters\n",
    "m = fit.coef_.flatten()\n",
    "b = fit.intercept_.flatten()\n",
    "print(\"m: \", m, \"b: \", b)\n",
    "\n",
    "# plot regression line\n",
    "plt.plot(X,Y,\"o\")\n",
    "plt.plot(X,m*X+b)\n",
    "plt.show()"
   ]
  },
  {
   "cell_type": "code",
   "execution_count": 43,
   "id": "67d5cd2c-e5cf-4f88-ad3b-a4ef14456db9",
   "metadata": {},
   "outputs": [
    {
     "name": "stdout",
     "output_type": "stream",
     "text": [
      "[0.85997626 0.80503284 0.83171369 0.84393466 0.88214619]\n",
      "MSE:  0.8445607299025291 STD:  0.025993068141025928\n"
     ]
    }
   ],
   "source": [
    "# testing cross validation\n",
    "\n",
    "# configure the splits for cross validation\n",
    "kfold = KFold(n_splits = 5, random_state = 7, shuffle=True)\n",
    "\n",
    "# declare model\n",
    "model = LinearRegression()\n",
    "\n",
    "# calculate resulting R2 over all splits\n",
    "result = cross_val_score(model, X, Y, cv = kfold)\n",
    "\n",
    "print(result) # prints the R2 for each split\n",
    "print(\"MSE: \", result.mean(), \"STD: \", result.std())"
   ]
  },
  {
   "cell_type": "markdown",
   "id": "2a9a808e-6b0c-457f-8525-60eac39d0a9d",
   "metadata": {},
   "source": [
    "**cross val vs normal train test split using sklearn**\n",
    "- normal process:\n",
    "- split data in test and train\n",
    "- define a model and its parameters\n",
    "- train (fit the model). here you only use train data. Need this to get the coefficients for the model\n",
    "- evaluate the model: use score method. is the same as using predict and then calculating accuracy. It evaluates the previously trained model\n",
    "- do I even need to train the model? yes you need to train it before evaluating it\n",
    "- cv process:\n",
    "- evaluate step is done k times. A new model is trained from scratch. No fit is saved\n",
    "- train step is skipped\n",
    "- if I want to use the model, I still need to fit it\n",
    "- what if I want to make predictions? model needs to be fitted\n",
    "- So: CV is good for evaluating and comparing different models and model configurations\n",
    "- then I can pick a couple good ones, fit them and test them on a final validation set\n",
    "- then I can pick the best model and use it"
   ]
  },
  {
   "cell_type": "code",
   "execution_count": null,
   "id": "f12a814d-780d-4031-a9a6-9146065d4583",
   "metadata": {},
   "outputs": [],
   "source": []
  }
 ],
 "metadata": {
  "kernelspec": {
   "display_name": "venv",
   "language": "python",
   "name": "venv"
  },
  "language_info": {
   "codemirror_mode": {
    "name": "ipython",
    "version": 3
   },
   "file_extension": ".py",
   "mimetype": "text/x-python",
   "name": "python",
   "nbconvert_exporter": "python",
   "pygments_lexer": "ipython3",
   "version": "3.9.6"
  }
 },
 "nbformat": 4,
 "nbformat_minor": 5
}
