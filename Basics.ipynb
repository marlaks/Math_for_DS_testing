{
 "cells": [
  {
   "cell_type": "markdown",
   "id": "9cf8b7f4-7d2e-4040-b3ee-05e00cf9f8f7",
   "metadata": {},
   "source": [
    "**Number Theory**\n",
    "\n",
    "*Natural Numbers*\\\n",
    "1,2,3,4,5,6,....\\\n",
    "only positive numbers and no decimals\n",
    "\n",
    "*Whole Numbers*\\\n",
    "0,1,2,3,4,5....\\\n",
    "natural numbers and zero\n",
    "\n",
    "*Integers*\\\n",
    "positive and negative natural numbers and zero\\\n",
    "...-3,-2,-1,0,1,2,3....\n",
    "\n",
    "*rational numbers*\\\n",
    "include ratios, fractions\\\n",
    "2/3\n",
    "\n",
    "*Irrational numbers*\\\n",
    "numbers that cannot be expressed as a fraction\\\n",
    "they have infinite decimal places\\\n",
    "pi, e, sqrt(2)\n",
    "\n",
    "*Real numbers*\\\n",
    "rational and irrational numbers\\\n",
    "basically all numbers one would work with as data scientist\n",
    "\n",
    "*Complex and imaginary numbers*\\\n",
    "sqrt of negative numbers\\\n",
    "will hardly encounter them here"
   ]
  },
  {
   "cell_type": "markdown",
   "id": "41a378b5-b9fd-43a5-9f27-1c02573ec0ba",
   "metadata": {},
   "source": [
    "**Get user Input**"
   ]
  },
  {
   "cell_type": "code",
   "execution_count": 1,
   "id": "e7535ecf-ee07-473f-ae08-ac65407235ca",
   "metadata": {},
   "outputs": [
    {
     "name": "stdin",
     "output_type": "stream",
     "text": [
      "Please input a number\n",
      " 3\n"
     ]
    },
    {
     "name": "stdout",
     "output_type": "stream",
     "text": [
      "9\n"
     ]
    }
   ],
   "source": [
    "x = int(input(\"Please input a number\\n\"))\n",
    "\n",
    "product = 3 * x\n",
    "\n",
    "print(product)\n"
   ]
  },
  {
   "cell_type": "markdown",
   "id": "46e1fe9d-e661-4c99-9975-c47a4991534a",
   "metadata": {},
   "source": [
    "**Functions**\n",
    "\n",
    "input variables = independent variables\\\n",
    "output variable = dependent variable"
   ]
  },
  {
   "cell_type": "code",
   "execution_count": 2,
   "id": "800eb231-29f2-49bf-86b0-883a74e3386e",
   "metadata": {},
   "outputs": [
    {
     "data": {
      "text/plain": [
       "5"
      ]
     },
     "execution_count": 2,
     "metadata": {},
     "output_type": "execute_result"
    }
   ],
   "source": [
    "def f(x):\n",
    "    return 2 * x + 1\n",
    "\n",
    "f(2)"
   ]
  },
  {
   "cell_type": "code",
   "execution_count": null,
   "id": "720f4e84-6ad9-44ab-90e2-e05655e634aa",
   "metadata": {},
   "outputs": [],
   "source": []
  }
 ],
 "metadata": {
  "kernelspec": {
   "display_name": "venv",
   "language": "python",
   "name": "venv"
  },
  "language_info": {
   "codemirror_mode": {
    "name": "ipython",
    "version": 3
   },
   "file_extension": ".py",
   "mimetype": "text/x-python",
   "name": "python",
   "nbconvert_exporter": "python",
   "pygments_lexer": "ipython3",
   "version": "3.9.6"
  }
 },
 "nbformat": 4,
 "nbformat_minor": 5
}
