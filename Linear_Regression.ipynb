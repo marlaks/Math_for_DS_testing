{
 "cells": [
  {
   "cell_type": "markdown",
   "id": "bf4e3650-24f6-438b-9c27-2e31c423b396",
   "metadata": {},
   "source": [
    "## Linear Regression"
   ]
  },
  {
   "cell_type": "markdown",
   "id": "1e102e72-9bf1-4335-99af-bee40337bde4",
   "metadata": {},
   "source": [
    "- linear regression fits a straight line through observed data, showing it is linear, and predicting values for new and unobserved data\n",
    "- machine learning practicioners often use train-test-splits to validate data\n",
    "- statisticians like to use prediction intervals and correlations\n",
    "- linear regression should not be used to make predictions outside the range of the observed data"
   ]
  },
  {
   "cell_type": "code",
   "execution_count": null,
   "id": "2985259c-6136-4512-8d60-103d90dc77b0",
   "metadata": {},
   "outputs": [],
   "source": []
  }
 ],
 "metadata": {
  "kernelspec": {
   "display_name": "venv",
   "language": "python",
   "name": "venv"
  },
  "language_info": {
   "codemirror_mode": {
    "name": "ipython",
    "version": 3
   },
   "file_extension": ".py",
   "mimetype": "text/x-python",
   "name": "python",
   "nbconvert_exporter": "python",
   "pygments_lexer": "ipython3",
   "version": "3.9.6"
  }
 },
 "nbformat": 4,
 "nbformat_minor": 5
}
