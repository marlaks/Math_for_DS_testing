{
 "cells": [
  {
   "cell_type": "code",
   "execution_count": 23,
   "id": "56fb018a-4135-45ec-91d6-0ce4f7d5487a",
   "metadata": {},
   "outputs": [],
   "source": [
    "import pandas as pd\n",
    "from sklearn.linear_model import LogisticRegression\n",
    "import matplotlib.pyplot as plt\n",
    "import math"
   ]
  },
  {
   "cell_type": "markdown",
   "id": "10d375e4-33b5-49f6-a338-c3b74fcb1fcf",
   "metadata": {},
   "source": [
    "## Logistic Regression\n",
    "- predicts categories instead of real numbers (classification)\n",
    "- Logistic Regression does output a continous number, but that can be converted into a discrete number using threshold\n",
    "- fairly resiliant against outliers\n",
    "- the logistic function is a s-curve\n",
    "- for set of input variables, it produces an output valuable between 0 and 1\n",
    "- function for 1 input variable x:\n",
    "- y = 1 / (1 + e**-(ß0 + ß1x))\n",
    "- ß0 = b = intercept\n",
    "- ß1 = m = slope\n",
    "- function in the exponent is the log-odds function\n",
    "- function for more than 1 input variables:\n",
    "- y = 1 / (1 + e**-(ß0 + ß1x1 + ß2x2 + ß3x3....))"
   ]
  },
  {
   "cell_type": "markdown",
   "id": "aa0a9241-6d82-4b79-b028-9c824520c971",
   "metadata": {},
   "source": [
    "**Fitting Logistic Regression**\n",
    "- input data can be decimal, integer or binary\n",
    "- output has to be binary (0 or 1)\n",
    "- when we do prediction, output will be between 0 and 1\n",
    "- given input and output data, we solve for ß0 and ß1\n",
    "- we dont minimize least squares like in regression\n",
    "- but we use maximum likelyhood estimation\n",
    "- which maximizes the likelyhood a given logistic curve would output the observed data"
   ]
  },
  {
   "cell_type": "markdown",
   "id": "cb63a022-ca32-4516-bd5d-011ab9bcee16",
   "metadata": {},
   "source": [
    "**Preparing and understanding the dataset**"
   ]
  },
  {
   "cell_type": "code",
   "execution_count": 13,
   "id": "3f07b5a7-e626-4fcd-8fa0-4e7c6f76aa24",
   "metadata": {},
   "outputs": [],
   "source": [
    "# Load the data\n",
    "df = pd.read_csv('https://bit.ly/33ebs2R', delimiter=\",\")\n",
    "\n",
    "# Extract input variables (all rows, all columns but last column)\n",
    "X = df.values[:, :-1]\n",
    "\n",
    "# Extract output column (all rows, last column)\n",
    "Y = df.values[:, -1]"
   ]
  },
  {
   "cell_type": "code",
   "execution_count": 14,
   "id": "76d8f27e-0d5e-4d42-914b-2330e37fbfda",
   "metadata": {},
   "outputs": [
    {
     "data": {
      "text/html": [
       "<div>\n",
       "<style scoped>\n",
       "    .dataframe tbody tr th:only-of-type {\n",
       "        vertical-align: middle;\n",
       "    }\n",
       "\n",
       "    .dataframe tbody tr th {\n",
       "        vertical-align: top;\n",
       "    }\n",
       "\n",
       "    .dataframe thead th {\n",
       "        text-align: right;\n",
       "    }\n",
       "</style>\n",
       "<table border=\"1\" class=\"dataframe\">\n",
       "  <thead>\n",
       "    <tr style=\"text-align: right;\">\n",
       "      <th></th>\n",
       "      <th>x</th>\n",
       "      <th>y</th>\n",
       "    </tr>\n",
       "  </thead>\n",
       "  <tbody>\n",
       "    <tr>\n",
       "      <th>0</th>\n",
       "      <td>1.0</td>\n",
       "      <td>0</td>\n",
       "    </tr>\n",
       "    <tr>\n",
       "      <th>1</th>\n",
       "      <td>1.5</td>\n",
       "      <td>0</td>\n",
       "    </tr>\n",
       "    <tr>\n",
       "      <th>2</th>\n",
       "      <td>2.1</td>\n",
       "      <td>0</td>\n",
       "    </tr>\n",
       "    <tr>\n",
       "      <th>3</th>\n",
       "      <td>2.4</td>\n",
       "      <td>0</td>\n",
       "    </tr>\n",
       "    <tr>\n",
       "      <th>4</th>\n",
       "      <td>2.5</td>\n",
       "      <td>1</td>\n",
       "    </tr>\n",
       "  </tbody>\n",
       "</table>\n",
       "</div>"
      ],
      "text/plain": [
       "     x  y\n",
       "0  1.0  0\n",
       "1  1.5  0\n",
       "2  2.1  0\n",
       "3  2.4  0\n",
       "4  2.5  1"
      ]
     },
     "execution_count": 14,
     "metadata": {},
     "output_type": "execute_result"
    }
   ],
   "source": [
    "df.head()"
   ]
  },
  {
   "cell_type": "code",
   "execution_count": 15,
   "id": "11638d42-4d90-4c72-8794-4b2892eb9eae",
   "metadata": {},
   "outputs": [
    {
     "data": {
      "text/html": [
       "<div>\n",
       "<style scoped>\n",
       "    .dataframe tbody tr th:only-of-type {\n",
       "        vertical-align: middle;\n",
       "    }\n",
       "\n",
       "    .dataframe tbody tr th {\n",
       "        vertical-align: top;\n",
       "    }\n",
       "\n",
       "    .dataframe thead th {\n",
       "        text-align: right;\n",
       "    }\n",
       "</style>\n",
       "<table border=\"1\" class=\"dataframe\">\n",
       "  <thead>\n",
       "    <tr style=\"text-align: right;\">\n",
       "      <th></th>\n",
       "      <th>x</th>\n",
       "      <th>y</th>\n",
       "    </tr>\n",
       "  </thead>\n",
       "  <tbody>\n",
       "    <tr>\n",
       "      <th>count</th>\n",
       "      <td>21.000000</td>\n",
       "      <td>21.000000</td>\n",
       "    </tr>\n",
       "    <tr>\n",
       "      <th>mean</th>\n",
       "      <td>5.209524</td>\n",
       "      <td>0.571429</td>\n",
       "    </tr>\n",
       "    <tr>\n",
       "      <th>std</th>\n",
       "      <td>2.468786</td>\n",
       "      <td>0.507093</td>\n",
       "    </tr>\n",
       "    <tr>\n",
       "      <th>min</th>\n",
       "      <td>1.000000</td>\n",
       "      <td>0.000000</td>\n",
       "    </tr>\n",
       "    <tr>\n",
       "      <th>25%</th>\n",
       "      <td>3.100000</td>\n",
       "      <td>0.000000</td>\n",
       "    </tr>\n",
       "    <tr>\n",
       "      <th>50%</th>\n",
       "      <td>5.200000</td>\n",
       "      <td>1.000000</td>\n",
       "    </tr>\n",
       "    <tr>\n",
       "      <th>75%</th>\n",
       "      <td>7.000000</td>\n",
       "      <td>1.000000</td>\n",
       "    </tr>\n",
       "    <tr>\n",
       "      <th>max</th>\n",
       "      <td>9.200000</td>\n",
       "      <td>1.000000</td>\n",
       "    </tr>\n",
       "  </tbody>\n",
       "</table>\n",
       "</div>"
      ],
      "text/plain": [
       "               x          y\n",
       "count  21.000000  21.000000\n",
       "mean    5.209524   0.571429\n",
       "std     2.468786   0.507093\n",
       "min     1.000000   0.000000\n",
       "25%     3.100000   0.000000\n",
       "50%     5.200000   1.000000\n",
       "75%     7.000000   1.000000\n",
       "max     9.200000   1.000000"
      ]
     },
     "execution_count": 15,
     "metadata": {},
     "output_type": "execute_result"
    }
   ],
   "source": [
    "df.describe()"
   ]
  },
  {
   "cell_type": "code",
   "execution_count": 17,
   "id": "1de5755c-32f6-4961-b486-1ca3353c0eb9",
   "metadata": {},
   "outputs": [
    {
     "data": {
      "image/png": "[encoded data removed]",
      "text/plain": [
       "<Figure size 640x480 with 1 Axes>"
      ]
     },
     "metadata": {},
     "output_type": "display_data"
    }
   ],
   "source": [
    "plt.plot(X,Y, \"o\")\n",
    "plt.show()"
   ]
  },
  {
   "cell_type": "markdown",
   "id": "7006e2ab-dfda-4d9e-a12c-6e1d5cc7fb1b",
   "metadata": {},
   "source": [
    "**Logistic regression with sklearn**"
   ]
  },
  {
   "cell_type": "code",
   "execution_count": 20,
   "id": "4a729c10-32c5-4fa3-bda5-75839723bf7c",
   "metadata": {},
   "outputs": [
    {
     "name": "stdout",
     "output_type": "stream",
     "text": [
      "[0.69267212]\n",
      "[-3.17576395]\n"
     ]
    }
   ],
   "source": [
    "# Perform logistic regression\n",
    "# Turn off penalty\n",
    "model = LogisticRegression(penalty=None)\n",
    "model.fit(X, Y)\n",
    "\n",
    "# print beta1\n",
    "ß1 = model.coef_.flatten()\n",
    "print(ß1) # 0.69267212\n",
    "\n",
    "# print beta0\n",
    "ß0 = model.intercept_.flatten()\n",
    "print(ß0) # -3.17576395"
   ]
  },
  {
   "cell_type": "code",
   "execution_count": 39,
   "id": "416f36bd-b412-4255-b377-283474cf6e22",
   "metadata": {},
   "outputs": [
    {
     "data": {
      "image/png": "[encoded data removed]",
      "text/plain": [
       "<Figure size 640x480 with 1 Axes>"
      ]
     },
     "metadata": {},
     "output_type": "display_data"
    }
   ],
   "source": [
    "y_hat = model.predict_proba(X)\n",
    "plt.plot(X, y_hat[:,1])\n",
    "plt.plot(X,Y,\"o\")\n",
    "plt.show()"
   ]
  },
  {
   "cell_type": "markdown",
   "id": "334d39f2-5df3-4b29-9444-c53b7d47aafb",
   "metadata": {},
   "source": [
    "**Multivariate Logistic Regression**\n",
    "- multiple input variables\n",
    "- rest stays the same i think"
   ]
  },
  {
   "cell_type": "code",
   "execution_count": null,
   "id": "f7c10008-ee2f-4500-8ff6-77399e0c5018",
   "metadata": {},
   "outputs": [],
   "source": []
  }
 ],
 "metadata": {
  "kernelspec": {
   "display_name": "venv",
   "language": "python",
   "name": "venv"
  },
  "language_info": {
   "codemirror_mode": {
    "name": "ipython",
    "version": 3
   },
   "file_extension": ".py",
   "mimetype": "text/x-python",
   "name": "python",
   "nbconvert_exporter": "python",
   "pygments_lexer": "ipython3",
   "version": "3.9.6"
  }
 },
 "nbformat": 4,
 "nbformat_minor": 5
}
