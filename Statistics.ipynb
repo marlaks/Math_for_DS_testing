{
 "cells": [
  {
   "cell_type": "code",
   "execution_count": 1,
   "id": "33b62ca3-4a1d-4c6d-b822-b57340101244",
   "metadata": {},
   "outputs": [],
   "source": [
    "from scipy.stats import norm"
   ]
  },
  {
   "cell_type": "markdown",
   "id": "da5f126e-5952-4af5-bfe9-f33695e4e3e7",
   "metadata": {},
   "source": [
    "**Statistics Types**\n",
    "- descriptive statistics: used to describe and summarize data\n",
    "- inferential statistics: tries to uncover attributes of a larger population, usually based on a sample"
   ]
  },
  {
   "cell_type": "markdown",
   "id": "89c8ccb9-18f1-467b-a30f-ae19c04617f2",
   "metadata": {},
   "source": [
    "**Population**\n",
    "- particular group of interest that should be studied"
   ]
  },
  {
   "cell_type": "markdown",
   "id": "1d4e51fe-5f89-44b8-a1e2-b178db5b261d",
   "metadata": {},
   "source": [
    "**Sample**\n",
    "- subset of population that is ideally random an unbiased\n",
    "- is used to infer attributes about the population\n",
    "- population is usually to big, so samples are used\n",
    "- hard to get the bias out of the data though\n",
    "- ie how do i get a random sample of all universities in US to represent all students? Without injecting any selection bias?\n",
    "- *confirmation bias*: Selecting only data that supports your belief\n",
    "- *self-selection bias*: Selecting samples that are already pre-selected\n",
    "- *Survival bias*: Selects only the survivors, while the lost ones are not included in the sample\n",
    "- Computers don't recognize bias in data, that has to be done by the practicioner"
   ]
  },
  {
   "cell_type": "markdown",
   "id": "a7c6a8cb-cb0b-4c28-933d-aa3d9f92bc9e",
   "metadata": {},
   "source": [
    "## Descriptive Statistics"
   ]
  },
  {
   "cell_type": "markdown",
   "id": "88c04a2f-19c9-495d-9aed-501ff7398bf3",
   "metadata": {},
   "source": [
    "**Mean**\n",
    "- average\n",
    "- sample mean: x-bar\n",
    "- population mean: mu"
   ]
  },
  {
   "cell_type": "code",
   "execution_count": 1,
   "id": "94d67bef-c7f5-46b5-9869-72640684782e",
   "metadata": {},
   "outputs": [
    {
     "data": {
      "text/plain": [
       "4.25"
      ]
     },
     "execution_count": 1,
     "metadata": {},
     "output_type": "execute_result"
    }
   ],
   "source": [
    "sample = [0,1,3,4,2,7,8,9]\n",
    "\n",
    "mean = sum(sample) / len(sample)\n",
    "mean"
   ]
  },
  {
   "cell_type": "markdown",
   "id": "b08d5eb8-caca-4530-bbe2-fb2d9df8f3bf",
   "metadata": {},
   "source": [
    "**Weighted Mean**\n",
    "- weight each data point before summing\n",
    "- then divide by sum of weights, not the count"
   ]
  },
  {
   "cell_type": "code",
   "execution_count": 2,
   "id": "b2116f62-998e-45ae-99fa-fd0ffb1c0caa",
   "metadata": {},
   "outputs": [
    {
     "data": {
      "text/plain": [
       "55.63333333333333"
      ]
     },
     "execution_count": 2,
     "metadata": {},
     "output_type": "execute_result"
    }
   ],
   "source": [
    "sample = [9,23,65,23,78]\n",
    "weights = [3,7,45,3,2]\n",
    "\n",
    "weighted_mean = sum(s * w for s,w in zip(sample, weights)) / sum(weights)\n",
    "weighted_mean"
   ]
  },
  {
   "cell_type": "markdown",
   "id": "7cc5764b-e56a-4250-90c3-03627693ae5e",
   "metadata": {},
   "source": [
    "**Median**\n",
    "- middle most value in a set of ordered values\n",
    "- if n is even, you average the two center most values\n",
    "- median is helpful alternative to mean if the data is skewed by outliers\n",
    "- when median is very different from mean, you have skewed dataset with many outliers\n",
    "- mean is the 50% quantile (from 25%, 50%, 75%)*"
   ]
  },
  {
   "cell_type": "markdown",
   "id": "725e76d3-7428-4470-a6a4-0f71b2f8feec",
   "metadata": {},
   "source": [
    "**Mode**\n",
    "- most frequent set of values in data set\n",
    "- useful in repetitive data and you want to know which value is most frequent\n",
    "- otherwise not used often\n",
    "- bimodal: 2 values with highest frequency"
   ]
  },
  {
   "cell_type": "markdown",
   "id": "8f485cb8-422e-46c1-924f-a243b4de38ef",
   "metadata": {},
   "source": [
    "**Variance**\n",
    "- measure for how spread out the data is\n",
    "- squared sum of differences between value and mean for each data point\n",
    "- then take the average\n",
    "- intuition: Average distance of a datapoint to the mean"
   ]
  },
  {
   "cell_type": "markdown",
   "id": "bef76199-c242-4f6b-aa05-264c451dc25e",
   "metadata": {},
   "source": [
    "**Standard Deviation**\n",
    "- square root of Variance. gets it closer to original scale"
   ]
  },
  {
   "cell_type": "markdown",
   "id": "fda07715-9dd0-42ac-aa3b-8beb26cd005d",
   "metadata": {},
   "source": [
    "**Standard Deviation and Variance in Samples**\n",
    "- in samples, when dividing by the sample size, we divide by sample size - 1\n",
    "- we do this to decrease the bias\n",
    "- this increases the estimate of how spread out the data of the population is\n",
    "- since it is in any case most likely more spread out than the sample"
   ]
  },
  {
   "cell_type": "markdown",
   "id": "df4d47e9-703b-4f04-9bbe-901412d58c5d",
   "metadata": {},
   "source": [
    "**The Normal Distribution**\n",
    "- most important distribution\n",
    "- most mass around its mean\n",
    "- is seen a lot in nature and sciences\n",
    "- *properties*:\n",
    "- symmetrical: Both sides are identically mirrored at the mean\n",
    "- most mass is at center around mean\n",
    "- is has a spread (being narrow or wide) that is specified by standard deviation\n",
    "- tails are the least likely outcomes and approach, but never touch, zero"
   ]
  },
  {
   "cell_type": "markdown",
   "id": "d826ecd0-372b-4298-afe6-8465332e995d",
   "metadata": {},
   "source": [
    "**The probability Density Function (PDF)**\n",
    "- is the function that creates the normal distribution\n",
    "- can be used to look up likelyhoods at given values\n",
    "- its continuous, so we need to integrate it to get an area"
   ]
  },
  {
   "cell_type": "markdown",
   "id": "db6e8d95-5f50-484d-ada9-d1c058d3acf6",
   "metadata": {},
   "source": [
    "**The cumulative distribution function**\n",
    "- finds the area under PDF (normal distribution)\n",
    "- like with beta distribution\n",
    "- ie whats the probability of a value being below x?"
   ]
  },
  {
   "cell_type": "code",
   "execution_count": 5,
   "id": "f4893bde-7ed2-455d-9845-abbf8d9f10a7",
   "metadata": {},
   "outputs": [
    {
     "name": "stdout",
     "output_type": "stream",
     "text": [
      "0.5755943933826899\n"
     ]
    }
   ],
   "source": [
    "mean = 64.43\n",
    "std_dev = 2.99\n",
    "x = 65\n",
    "\n",
    "P = norm.cdf(x, mean, std_dev)\n",
    "\n",
    "print(P)"
   ]
  },
  {
   "cell_type": "code",
   "execution_count": 9,
   "id": "079ba6da-7ad5-4a8e-8a48-c06065ac4d7c",
   "metadata": {},
   "outputs": [
    {
     "data": {
      "text/plain": [
       "0.4086326197841312"
      ]
     },
     "execution_count": 9,
     "metadata": {},
     "output_type": "execute_result"
    }
   ],
   "source": [
    "# probability of value being in certain area y - x\n",
    "\n",
    "mean = 70\n",
    "std_dev = 6.34\n",
    "x = 65\n",
    "y = 72\n",
    "\n",
    "P = norm.cdf(y, mean, std_dev) - norm.cdf(x, mean, std_dev)\n",
    "P"
   ]
  },
  {
   "cell_type": "markdown",
   "id": "4132503b-c42d-4062-849d-e3515cb64bd9",
   "metadata": {},
   "source": [
    "**Inverse CDF**\n",
    "- opposite of CDF\n",
    "- under what value do x% of data points fall?"
   ]
  },
  {
   "cell_type": "code",
   "execution_count": 10,
   "id": "6ad0d2dc-2906-4e7e-b4ff-fd0e61b89b9f",
   "metadata": {},
   "outputs": [
    {
     "data": {
      "text/plain": [
       "69.3481123445849"
      ]
     },
     "execution_count": 10,
     "metadata": {},
     "output_type": "execute_result"
    }
   ],
   "source": [
    "# under what value do 95% of data points fall?\n",
    "# loc = mean, scale = std_dev\n",
    "\n",
    "x = norm.ppf(.95, loc = 64.43, scale = 2.99)\n",
    "x"
   ]
  },
  {
   "cell_type": "markdown",
   "id": "7017ff8c-1ceb-422b-af45-178bd48e645c",
   "metadata": {},
   "source": [
    "**Z scores**\n",
    "- standard normal distribution: mean = 0, std_dev = 1)\n",
    "- normal distributions are often scaled to standard normal distributions to make them more comparable\n",
    "- standard normal distribution expresses all x values in terms of std_dev.\n",
    "- Amount of std_devs is called the Z-Score\n",
    "- Z = (x - mean)/std_dev"
   ]
  },
  {
   "cell_type": "markdown",
   "id": "c923e197-3ae5-4272-9f1d-c200e2c97522",
   "metadata": {},
   "source": [
    "**Coefficient of variation**\n",
    "- metric to discribe the spread of a distribution\n",
    "- cv = std_dev/mean\n",
    "- basically adjusts the std_dev for the mean"
   ]
  },
  {
   "cell_type": "markdown",
   "id": "c2204fd4-d934-47d8-815d-4e856708d04b",
   "metadata": {},
   "source": [
    "## Inferential Statistics\n",
    "- Infer stuff about population by using sample"
   ]
  },
  {
   "cell_type": "markdown",
   "id": "150d87e3-9951-4d66-9b2a-2e210dec5590",
   "metadata": {},
   "source": [
    "**Central Limit Theorem**\n",
    "- uniform distribution: any value is equally likely, distribution becomes flat\n",
    "- but when these values are grouped and averaged, they become a normal distribution\n",
    "- *central limit theorem*: Interesting things happen when we take large enough samples of populations, calculate the mean of each sample, and plot as distribution:\n",
    "1. the mean of the sample means becomes the population mean\n",
    "2. if the population is normal, then the sample means will be normal\n",
    "3. if population is not normal, but sample size is greater 30, the sample means are still roughly normal distribution\n",
    "4. sample std_dev = population std_dev/sqrt(population size)\n",
    "- you need at least 31 samples to satisfy central limit theorem and see normal distribution\n",
    "- *then you can infer useful things about population using normal distribution, even if population is not normal*\n",
    "- less than 31 samples, you need to use T-distribution\n",
    "\n",
    "**probability distribution and sample size**\n",
    "- if population is very asymmetric, ie skewed, you need a lot bigger sample size to get the sample means looking like normal distribution\n",
    "- unimodal data: One peak. is good for central limit theorem\n",
    "- multimodal data: more peaks. need bigger sample size"
   ]
  },
  {
   "cell_type": "markdown",
   "id": "266aae37-30ef-4e7a-9fc8-dd3ff8030bb9",
   "metadata": {},
   "source": [
    "**Confidence Intervals**\n",
    "- gives a confidence (ie 95% confidence) that a specific value of the population (ie population mean) lies between two values (ie 10 and 12)\n",
    "- first choose a LOC (level of confidence) ie 95%\n",
    "- this is the desired confidence a value (ie population mean) should have"
   ]
  },
  {
   "cell_type": "code",
   "execution_count": null,
   "id": "b007da8b-a355-42af-bc29-a0a6f0daae23",
   "metadata": {},
   "outputs": [],
   "source": []
  }
 ],
 "metadata": {
  "kernelspec": {
   "display_name": "venv",
   "language": "python",
   "name": "venv"
  },
  "language_info": {
   "codemirror_mode": {
    "name": "ipython",
    "version": 3
   },
   "file_extension": ".py",
   "mimetype": "text/x-python",
   "name": "python",
   "nbconvert_exporter": "python",
   "pygments_lexer": "ipython3",
   "version": "3.9.6"
  }
 },
 "nbformat": 4,
 "nbformat_minor": 5
}
