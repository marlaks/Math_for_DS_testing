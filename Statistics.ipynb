{
 "cells": [
  {
   "cell_type": "markdown",
   "id": "da5f126e-5952-4af5-bfe9-f33695e4e3e7",
   "metadata": {},
   "source": [
    "**Statistics Types**\n",
    "- descriptive statistics: used to describe and summarize data\n",
    "- inferential statistics: tries to uncover attributes of a larger population, usually based on a sample"
   ]
  },
  {
   "cell_type": "markdown",
   "id": "89c8ccb9-18f1-467b-a30f-ae19c04617f2",
   "metadata": {},
   "source": [
    "**Population**\n",
    "- particular group of interest that should be studied"
   ]
  },
  {
   "cell_type": "markdown",
   "id": "1d4e51fe-5f89-44b8-a1e2-b178db5b261d",
   "metadata": {},
   "source": [
    "**Sample**\n",
    "- subset of population that is ideally random an unbiased\n",
    "- is used to infer attributes about the population\n",
    "- population is usually to big, so samples are used\n",
    "- hard to get the bias out of the data though\n",
    "- ie how do i get a random sample of all universities in US to represent all students? Without injecting any selection bias?\n",
    "- *confirmation bias*: Selecting only data that supports your belief\n",
    "- *self-selection bias*: Selecting samples that are already pre-selected\n",
    "- *Survival bias*: Selects only the survivors, while the lost ones are not included in the sample\n",
    "- Computers don't recognize bias in data, that has to be done by the practicioner"
   ]
  },
  {
   "cell_type": "markdown",
   "id": "a7c6a8cb-cb0b-4c28-933d-aa3d9f92bc9e",
   "metadata": {},
   "source": [
    "**Descriptive Statistics**"
   ]
  },
  {
   "cell_type": "markdown",
   "id": "88c04a2f-19c9-495d-9aed-501ff7398bf3",
   "metadata": {},
   "source": [
    "**Mean**\n",
    "- average\n",
    "- sample mean: x-bar\n",
    "- population mean: mu"
   ]
  },
  {
   "cell_type": "code",
   "execution_count": 1,
   "id": "94d67bef-c7f5-46b5-9869-72640684782e",
   "metadata": {},
   "outputs": [
    {
     "data": {
      "text/plain": [
       "4.25"
      ]
     },
     "execution_count": 1,
     "metadata": {},
     "output_type": "execute_result"
    }
   ],
   "source": [
    "sample = [0,1,3,4,2,7,8,9]\n",
    "\n",
    "mean = sum(sample) / len(sample)\n",
    "mean"
   ]
  },
  {
   "cell_type": "markdown",
   "id": "b08d5eb8-caca-4530-bbe2-fb2d9df8f3bf",
   "metadata": {},
   "source": [
    "**Weighted Mean**\n",
    "- weight each data point before summing\n",
    "- then divide by sum of weights, not the count"
   ]
  },
  {
   "cell_type": "code",
   "execution_count": 2,
   "id": "b2116f62-998e-45ae-99fa-fd0ffb1c0caa",
   "metadata": {},
   "outputs": [
    {
     "data": {
      "text/plain": [
       "55.63333333333333"
      ]
     },
     "execution_count": 2,
     "metadata": {},
     "output_type": "execute_result"
    }
   ],
   "source": [
    "sample = [9,23,65,23,78]\n",
    "weights = [3,7,45,3,2]\n",
    "\n",
    "weighted_mean = sum(s * w for s,w in zip(sample, weights)) / sum(weights)\n",
    "weighted_mean"
   ]
  },
  {
   "cell_type": "markdown",
   "id": "7cc5764b-e56a-4250-90c3-03627693ae5e",
   "metadata": {},
   "source": [
    "**Median**\n",
    "- middle most value in a set of ordered values\n",
    "- if n is even, you average the two center most values\n",
    "- median is helpful alternative to mean if the data is skewed by outliers\n",
    "- when median is very different from mean, you have skewed dataset with many outliers\n",
    "- mean is the 50% quantile (from 25%, 50%, 75%)*"
   ]
  },
  {
   "cell_type": "markdown",
   "id": "725e76d3-7428-4470-a6a4-0f71b2f8feec",
   "metadata": {},
   "source": [
    "**Mode**\n",
    "- most frequent set of values in data set\n",
    "- useful in repetitive data and you want to know which value is most frequent\n",
    "- otherwise not used often\n",
    "- bimodal: 2 values with highest frequency"
   ]
  },
  {
   "cell_type": "markdown",
   "id": "8f485cb8-422e-46c1-924f-a243b4de38ef",
   "metadata": {},
   "source": [
    "**Variance**\n",
    "- measure for how spread out the data is\n",
    "- squared sum of differences between value and mean for each data point\n",
    "- then take the average\n",
    "- intuition: Average distance of a datapoint to the mean"
   ]
  },
  {
   "cell_type": "markdown",
   "id": "bef76199-c242-4f6b-aa05-264c451dc25e",
   "metadata": {},
   "source": [
    "**Standard Deviation**\n",
    "- square root of Variance. gets it closer to original scale"
   ]
  },
  {
   "cell_type": "markdown",
   "id": "fda07715-9dd0-42ac-aa3b-8beb26cd005d",
   "metadata": {},
   "source": [
    "**Standard Deviation and Variance in Samples**\n",
    "- in samples, when dividing by the sample size, we divide by sample size - 1\n",
    "- we do this to decrease the bias\n",
    "- this increases the estimate of how spread out the data of the population is\n",
    "- since it is in any case most likely more spread out than the sample"
   ]
  },
  {
   "cell_type": "markdown",
   "id": "df4d47e9-703b-4f04-9bbe-901412d58c5d",
   "metadata": {},
   "source": [
    "**The Normal Distribution**\n",
    "- most important distribution\n",
    "- most mass around its mean\n",
    "- is seen a lot in nature and sciences\n",
    "- *properties*:\n",
    "- symmetrical: Both sides are identically mirrored at the mean\n",
    "- most mass is at center around mean\n",
    "- is has a spread (being narrow or wide) that is specified by standard deviation\n",
    "- tails are the least likely outcomes and approach, but never touch, zero"
   ]
  },
  {
   "cell_type": "markdown",
   "id": "d826ecd0-372b-4298-afe6-8465332e995d",
   "metadata": {},
   "source": [
    "**The probability Density Function (PDF)**\n"
   ]
  },
  {
   "cell_type": "code",
   "execution_count": null,
   "id": "bb785b94-6173-4417-b2e1-57043f7bff5d",
   "metadata": {},
   "outputs": [],
   "source": []
  }
 ],
 "metadata": {
  "kernelspec": {
   "display_name": "venv",
   "language": "python",
   "name": "venv"
  },
  "language_info": {
   "codemirror_mode": {
    "name": "ipython",
    "version": 3
   },
   "file_extension": ".py",
   "mimetype": "text/x-python",
   "name": "python",
   "nbconvert_exporter": "python",
   "pygments_lexer": "ipython3",
   "version": "3.9.6"
  }
 },
 "nbformat": 4,
 "nbformat_minor": 5
}
